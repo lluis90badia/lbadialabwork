{
 "cells": [
  {
   "cell_type": "markdown",
   "id": "1f4b5bb4",
   "metadata": {},
   "source": [
    "## Libraries"
   ]
  },
  {
   "cell_type": "code",
   "execution_count": 306,
   "id": "5f461cfc",
   "metadata": {},
   "outputs": [],
   "source": [
    "import pandas as pd\n",
    "import matplotlib.pyplot as plt\n",
    "from textblob import TextBlob\n",
    "import seaborn as sns\n",
    "\n",
    "from nltk.stem import WordNetLemmatizer\n",
    "from nltk.corpus import stopwords\n",
    "from nltk.tokenize import word_tokenize\n",
    "import docx2txt\n",
    "from nltk.corpus.reader import WordListCorpusReader"
   ]
  },
  {
   "cell_type": "markdown",
   "id": "3b395cbd",
   "metadata": {},
   "source": [
    "## 4. Read the data into a dataframe with pandas"
   ]
  },
  {
   "cell_type": "code",
   "execution_count": 256,
   "id": "4d8965d3",
   "metadata": {},
   "outputs": [],
   "source": [
    "clothingdf = pd.read_csv('Womens Clothing E-Commerce Reviews.csv')"
   ]
  },
  {
   "cell_type": "code",
   "execution_count": 257,
   "id": "78918c50",
   "metadata": {},
   "outputs": [
    {
     "name": "stdout",
     "output_type": "stream",
     "text": [
      "<class 'pandas.core.frame.DataFrame'>\n",
      "RangeIndex: 23486 entries, 0 to 23485\n",
      "Data columns (total 11 columns):\n",
      " #   Column                   Non-Null Count  Dtype \n",
      "---  ------                   --------------  ----- \n",
      " 0   Unnamed: 0               23486 non-null  int64 \n",
      " 1   Clothing ID              23486 non-null  int64 \n",
      " 2   Age                      23486 non-null  int64 \n",
      " 3   Title                    19676 non-null  object\n",
      " 4   Review Text              22641 non-null  object\n",
      " 5   Rating                   23486 non-null  int64 \n",
      " 6   Recommended IND          23486 non-null  int64 \n",
      " 7   Positive Feedback Count  23486 non-null  int64 \n",
      " 8   Division Name            23472 non-null  object\n",
      " 9   Department Name          23472 non-null  object\n",
      " 10  Class Name               23472 non-null  object\n",
      "dtypes: int64(6), object(5)\n",
      "memory usage: 2.0+ MB\n"
     ]
    }
   ],
   "source": [
    "clothingdf.info()"
   ]
  },
  {
   "cell_type": "markdown",
   "id": "90e83595",
   "metadata": {},
   "source": [
    "## 5. Filter the data frame to a relevant subset of columns required for our data scenario"
   ]
  },
  {
   "cell_type": "code",
   "execution_count": 258,
   "id": "9f6f4fb4",
   "metadata": {},
   "outputs": [],
   "source": [
    "data = clothingdf[['Title', 'Review Text', 'Rating', 'Division Name', 'Department Name']]"
   ]
  },
  {
   "cell_type": "code",
   "execution_count": 259,
   "id": "9188f032",
   "metadata": {},
   "outputs": [
    {
     "name": "stdout",
     "output_type": "stream",
     "text": [
      "<class 'pandas.core.frame.DataFrame'>\n",
      "RangeIndex: 23486 entries, 0 to 23485\n",
      "Data columns (total 5 columns):\n",
      " #   Column           Non-Null Count  Dtype \n",
      "---  ------           --------------  ----- \n",
      " 0   Title            19676 non-null  object\n",
      " 1   Review Text      22641 non-null  object\n",
      " 2   Rating           23486 non-null  int64 \n",
      " 3   Division Name    23472 non-null  object\n",
      " 4   Department Name  23472 non-null  object\n",
      "dtypes: int64(1), object(4)\n",
      "memory usage: 917.5+ KB\n"
     ]
    }
   ],
   "source": [
    "data.info()"
   ]
  },
  {
   "cell_type": "markdown",
   "id": "34c0db39",
   "metadata": {},
   "source": [
    "## 6. Use df.columns.str.lower() (or other preferred method) to standardise your column headers"
   ]
  },
  {
   "cell_type": "code",
   "execution_count": 260,
   "id": "b9df3afb",
   "metadata": {},
   "outputs": [],
   "source": [
    "cols = []\n",
    "for column in range(len(data.columns)): \n",
    "    cols.append(data.columns[column].lower())"
   ]
  },
  {
   "cell_type": "code",
   "execution_count": 261,
   "id": "dbc04549",
   "metadata": {},
   "outputs": [],
   "source": [
    "data.columns = cols"
   ]
  },
  {
   "cell_type": "markdown",
   "id": "8c3471e2",
   "metadata": {},
   "source": [
    "## 7. EDA - with descriptive statistics (eg describe(), shape, info()) and/or simple charts, explore and familiarise yourself with the data at your own pace - clarify what each column means/contains and what cleaning steps could be employed (and if needed for our scenario)"
   ]
  },
  {
   "cell_type": "code",
   "execution_count": 262,
   "id": "0a6ba4ed",
   "metadata": {},
   "outputs": [
    {
     "name": "stdout",
     "output_type": "stream",
     "text": [
      "<class 'pandas.core.frame.DataFrame'>\n",
      "RangeIndex: 23486 entries, 0 to 23485\n",
      "Data columns (total 5 columns):\n",
      " #   Column           Non-Null Count  Dtype \n",
      "---  ------           --------------  ----- \n",
      " 0   title            19676 non-null  object\n",
      " 1   review text      22641 non-null  object\n",
      " 2   rating           23486 non-null  int64 \n",
      " 3   division name    23472 non-null  object\n",
      " 4   department name  23472 non-null  object\n",
      "dtypes: int64(1), object(4)\n",
      "memory usage: 917.5+ KB\n"
     ]
    }
   ],
   "source": [
    "data.info()"
   ]
  },
  {
   "cell_type": "code",
   "execution_count": 263,
   "id": "b178497f",
   "metadata": {},
   "outputs": [
    {
     "name": "stderr",
     "output_type": "stream",
     "text": [
      "C:\\Users\\lluis\\AppData\\Local\\Temp/ipykernel_8348/2466374638.py:2: SettingWithCopyWarning: \n",
      "A value is trying to be set on a copy of a slice from a DataFrame.\n",
      "Try using .loc[row_indexer,col_indexer] = value instead\n",
      "\n",
      "See the caveats in the documentation: https://pandas.pydata.org/pandas-docs/stable/user_guide/indexing.html#returning-a-view-versus-a-copy\n",
      "  data['division name'] = data['division name'].str.replace('Initmates','Intimates')\n"
     ]
    }
   ],
   "source": [
    "# replacing 'Initmates' for 'Intimates':\n",
    "data['division name'] = data['division name'].str.replace('Initmates','Intimates')"
   ]
  },
  {
   "cell_type": "markdown",
   "id": "fdec1bd9",
   "metadata": {},
   "source": [
    "## 8. Use the pandas groupby function to summarise the average rating by division and department as a new dataframe"
   ]
  },
  {
   "cell_type": "code",
   "execution_count": 264,
   "id": "bd8fb6e7",
   "metadata": {},
   "outputs": [],
   "source": [
    "data_gb = data.groupby(['division name', 'department name']).agg({'rating':'mean'})"
   ]
  },
  {
   "cell_type": "code",
   "execution_count": 265,
   "id": "8d26c0ba",
   "metadata": {},
   "outputs": [
    {
     "data": {
      "text/html": [
       "<div>\n",
       "<style scoped>\n",
       "    .dataframe tbody tr th:only-of-type {\n",
       "        vertical-align: middle;\n",
       "    }\n",
       "\n",
       "    .dataframe tbody tr th {\n",
       "        vertical-align: top;\n",
       "    }\n",
       "\n",
       "    .dataframe thead th {\n",
       "        text-align: right;\n",
       "    }\n",
       "</style>\n",
       "<table border=\"1\" class=\"dataframe\">\n",
       "  <thead>\n",
       "    <tr style=\"text-align: right;\">\n",
       "      <th></th>\n",
       "      <th></th>\n",
       "      <th>rating</th>\n",
       "    </tr>\n",
       "    <tr>\n",
       "      <th>division name</th>\n",
       "      <th>department name</th>\n",
       "      <th></th>\n",
       "    </tr>\n",
       "  </thead>\n",
       "  <tbody>\n",
       "    <tr>\n",
       "      <th>Intimates</th>\n",
       "      <th>Intimate</th>\n",
       "      <td>4.286285</td>\n",
       "    </tr>\n",
       "    <tr>\n",
       "      <th rowspan=\"6\" valign=\"top\">General Petite</th>\n",
       "      <th>Bottoms</th>\n",
       "      <td>4.329356</td>\n",
       "    </tr>\n",
       "    <tr>\n",
       "      <th>Jackets</th>\n",
       "      <td>4.304910</td>\n",
       "    </tr>\n",
       "    <tr>\n",
       "      <th>Intimate</th>\n",
       "      <td>4.240343</td>\n",
       "    </tr>\n",
       "    <tr>\n",
       "      <th>Tops</th>\n",
       "      <td>4.216469</td>\n",
       "    </tr>\n",
       "    <tr>\n",
       "      <th>Dresses</th>\n",
       "      <td>4.133256</td>\n",
       "    </tr>\n",
       "    <tr>\n",
       "      <th>Trend</th>\n",
       "      <td>3.782609</td>\n",
       "    </tr>\n",
       "    <tr>\n",
       "      <th rowspan=\"5\" valign=\"top\">General</th>\n",
       "      <th>Bottoms</th>\n",
       "      <td>4.268686</td>\n",
       "    </tr>\n",
       "    <tr>\n",
       "      <th>Jackets</th>\n",
       "      <td>4.240310</td>\n",
       "    </tr>\n",
       "    <tr>\n",
       "      <th>Dresses</th>\n",
       "      <td>4.163003</td>\n",
       "    </tr>\n",
       "    <tr>\n",
       "      <th>Tops</th>\n",
       "      <td>4.148749</td>\n",
       "    </tr>\n",
       "    <tr>\n",
       "      <th>Trend</th>\n",
       "      <td>3.822917</td>\n",
       "    </tr>\n",
       "  </tbody>\n",
       "</table>\n",
       "</div>"
      ],
      "text/plain": [
       "                                  rating\n",
       "division name  department name          \n",
       "Intimates      Intimate         4.286285\n",
       "General Petite Bottoms          4.329356\n",
       "               Jackets          4.304910\n",
       "               Intimate         4.240343\n",
       "               Tops             4.216469\n",
       "               Dresses          4.133256\n",
       "               Trend            3.782609\n",
       "General        Bottoms          4.268686\n",
       "               Jackets          4.240310\n",
       "               Dresses          4.163003\n",
       "               Tops             4.148749\n",
       "               Trend            3.822917"
      ]
     },
     "execution_count": 265,
     "metadata": {},
     "output_type": "execute_result"
    }
   ],
   "source": [
    "data_gb.sort_values(['division name', 'rating'], ascending=False)"
   ]
  },
  {
   "cell_type": "markdown",
   "id": "938d4cb2",
   "metadata": {},
   "source": [
    "## 9. This dataframe can be easily visualised as a bar chart - do so now"
   ]
  },
  {
   "cell_type": "code",
   "execution_count": 266,
   "id": "a6cba529",
   "metadata": {},
   "outputs": [
    {
     "data": {
      "text/plain": [
       "<AxesSubplot:ylabel='division name,department name'>"
      ]
     },
     "execution_count": 266,
     "metadata": {},
     "output_type": "execute_result"
    },
    {
     "data": {
      "image/png": "[encoded data removed]",
      "text/plain": [
       "<Figure size 432x288 with 1 Axes>"
      ]
     },
     "metadata": {
      "needs_background": "light"
     },
     "output_type": "display_data"
    }
   ],
   "source": [
    "data_gb.sort_values(['rating']).plot(kind='barh', legend = False)"
   ]
  },
  {
   "cell_type": "markdown",
   "id": "0a16cce9",
   "metadata": {},
   "source": [
    "## 11. Do a spot /sample check on the review column, index position 5 (hint: iloc/loc/at) to apply textblob over the selected review text (image clothing_sentiment_index5.png) Do this for at least 3 samples to evaluate the accuracy of the sentiment polarity and subjectivity against the text itself"
   ]
  },
  {
   "cell_type": "code",
   "execution_count": 267,
   "id": "40668f92",
   "metadata": {},
   "outputs": [
    {
     "data": {
      "text/plain": [
       "'I love tracy reese dresses, but this one is not for the very petite. i am just under 5 feet tall and usually wear a 0p in this brand. this dress was very pretty out of the package but its a lot of dress. the skirt is long and very full so it overwhelmed my small frame. not a stranger to alterations, shortening and narrowing the skirt would take away from the embellishment of the garment. i love the color and the idea of the style but it just did not work on me. i returned this dress.'"
      ]
     },
     "execution_count": 267,
     "metadata": {},
     "output_type": "execute_result"
    }
   ],
   "source": [
    "# Example 1:\n",
    "\n",
    "data.iloc[5,1]"
   ]
  },
  {
   "cell_type": "code",
   "execution_count": 268,
   "id": "a4ac4e65",
   "metadata": {},
   "outputs": [
    {
     "data": {
      "text/plain": [
       "Sentiment(polarity=0.17874999999999996, subjectivity=0.533125)"
      ]
     },
     "execution_count": 268,
     "metadata": {},
     "output_type": "execute_result"
    }
   ],
   "source": [
    "test = TextBlob(data.iloc[5,1])\n",
    "test.sentiment"
   ]
  },
  {
   "cell_type": "markdown",
   "id": "ba6fa5e0",
   "metadata": {},
   "source": [
    "Correct accuarcy because it is not a positive review (she returned the dress at the end), but neither a negative review (she said she loved the colour for example)."
   ]
  },
  {
   "cell_type": "code",
   "execution_count": 269,
   "id": "f51ff50b",
   "metadata": {},
   "outputs": [
    {
     "data": {
      "text/plain": [
       "'Pretty and unique. great with jeans or i have worn it to work with slacks and heels. the colors, print, and embroidery are lovely. reasonably priced!'"
      ]
     },
     "execution_count": 269,
     "metadata": {},
     "output_type": "execute_result"
    }
   ],
   "source": [
    "# Example 2:\n",
    "\n",
    "data.iloc[40,1]"
   ]
  },
  {
   "cell_type": "code",
   "execution_count": 270,
   "id": "a7a51304",
   "metadata": {},
   "outputs": [
    {
     "data": {
      "text/plain": [
       "Sentiment(polarity=0.43499999999999994, subjectivity=0.82)"
      ]
     },
     "execution_count": 270,
     "metadata": {},
     "output_type": "execute_result"
    }
   ],
   "source": [
    "test2 = TextBlob(data.iloc[40,1])\n",
    "test2.sentiment"
   ]
  },
  {
   "cell_type": "markdown",
   "id": "6c679460",
   "metadata": {},
   "source": [
    "In my opinion, in general it is a positive review, but it has a lower polarity accuracy because she wrote 'reasonably'."
   ]
  },
  {
   "cell_type": "code",
   "execution_count": 271,
   "id": "29e03dc9",
   "metadata": {},
   "outputs": [
    {
     "data": {
      "text/plain": [
       "\"First of all, this is not pullover styling. there is a side zipper. i wouldn't have purchased it if i knew there was a side zipper because i have a large bust and side zippers are next to impossible for me.\\n\\nsecond of all, the tulle feels and looks cheap and the slip has an awkward tight shape underneath.\\n\\nnot at all what is looks like or is described as. sadly will be returning, but i'm sure i will find something to exchange it for!\""
      ]
     },
     "execution_count": 271,
     "metadata": {},
     "output_type": "execute_result"
    }
   ],
   "source": [
    "# Example 3:\n",
    "\n",
    "data.iloc[22,1]"
   ]
  },
  {
   "cell_type": "code",
   "execution_count": 272,
   "id": "6a2bc704",
   "metadata": {},
   "outputs": [
    {
     "data": {
      "text/plain": [
       "Sentiment(polarity=-0.04559523809523809, subjectivity=0.5636507936507936)"
      ]
     },
     "execution_count": 272,
     "metadata": {},
     "output_type": "execute_result"
    }
   ],
   "source": [
    "test3 = TextBlob(data.iloc[22,1])\n",
    "test3.sentiment"
   ]
  },
  {
   "cell_type": "markdown",
   "id": "a7317b46",
   "metadata": {},
   "source": [
    "In my opinion, it should have a lower polarity accuracy because it has several negavite terms."
   ]
  },
  {
   "cell_type": "markdown",
   "id": "901ed1e6",
   "metadata": {},
   "source": [
    "## 12. For the any selected customer review, use textblob to break out the text into sentences "
   ]
  },
  {
   "cell_type": "code",
   "execution_count": 274,
   "id": "00c5f99d",
   "metadata": {},
   "outputs": [],
   "source": [
    "ourfile = docx2txt.process(\"Horseracing.docx\")"
   ]
  },
  {
   "cell_type": "code",
   "execution_count": 275,
   "id": "b75b0c98",
   "metadata": {},
   "outputs": [],
   "source": [
    "tokens = word_tokenize(ourfile)"
   ]
  },
  {
   "cell_type": "code",
   "execution_count": 276,
   "id": "83bfe23d",
   "metadata": {},
   "outputs": [],
   "source": [
    "tokens_lower=[token.lower() for token in tokens]"
   ]
  },
  {
   "cell_type": "code",
   "execution_count": 277,
   "id": "bcc339d3",
   "metadata": {},
   "outputs": [],
   "source": [
    "# remove punctuation\n",
    "clean_tokens_lower=[word for word in tokens_lower if word.isalpha()]"
   ]
  },
  {
   "cell_type": "code",
   "execution_count": 278,
   "id": "97aee9d3",
   "metadata": {},
   "outputs": [],
   "source": [
    "stop_words=stopwords.words('english')"
   ]
  },
  {
   "cell_type": "code",
   "execution_count": 279,
   "id": "b2a003fe",
   "metadata": {},
   "outputs": [],
   "source": [
    "clean_tokens_lower_without_stop=[word for word in clean_tokens_lower if not word in stop_words]"
   ]
  },
  {
   "cell_type": "code",
   "execution_count": 280,
   "id": "6c134791",
   "metadata": {},
   "outputs": [],
   "source": [
    "def cleaning(data):\n",
    "    \n",
    "    #1. Tokenize\n",
    "    text_tokens = word_tokenize(data.replace(\"'\", \"\").lower()) \n",
    "        \n",
    "    #2. Remove Puncs\n",
    "    tokens_without_punc = [w for w in text_tokens if w.isalpha()]  \n",
    "    \n",
    "    #3. Removing Stopwords\n",
    "    tokens_without_sw = [t for t in tokens_without_punc if t not in stop_words]\n",
    "    \n",
    "    #4. lemma\n",
    "    text_cleaned = [WordNetLemmatizer().lemmatize(t) for t in tokens_without_sw]\n",
    "        \n",
    "    #joining\n",
    "    return \" \".join(text_cleaned)"
   ]
  },
  {
   "cell_type": "code",
   "execution_count": 281,
   "id": "f68bc187",
   "metadata": {},
   "outputs": [
    {
     "data": {
      "text/plain": [
       "[Sentence(\"I love tracy reese dresses, but this one is not for the very petite.\"),\n",
       " Sentence(\"i am just under 5 feet tall and usually wear a 0p in this brand.\"),\n",
       " Sentence(\"this dress was very pretty out of the package but its a lot of dress.\"),\n",
       " Sentence(\"the skirt is long and very full so it overwhelmed my small frame.\"),\n",
       " Sentence(\"not a stranger to alterations, shortening and narrowing the skirt would take away from the embellishment of the garment.\"),\n",
       " Sentence(\"i love the color and the idea of the style but it just did not work on me.\"),\n",
       " Sentence(\"i returned this dress.\")]"
      ]
     },
     "execution_count": 281,
     "metadata": {},
     "output_type": "execute_result"
    }
   ],
   "source": [
    "# Example 1:\n",
    "TextBlob(data['review text'].iloc[5]).sentences"
   ]
  },
  {
   "cell_type": "code",
   "execution_count": 282,
   "id": "34c5510e",
   "metadata": {},
   "outputs": [
    {
     "data": {
      "text/plain": [
       "[Sentence(\"Pretty and unique.\"),\n",
       " Sentence(\"great with jeans or i have worn it to work with slacks and heels.\"),\n",
       " Sentence(\"the colors, print, and embroidery are lovely.\"),\n",
       " Sentence(\"reasonably priced!\")]"
      ]
     },
     "execution_count": 282,
     "metadata": {},
     "output_type": "execute_result"
    }
   ],
   "source": [
    "# Example 2:\n",
    "TextBlob(data['review text'].iloc[40]).sentences"
   ]
  },
  {
   "cell_type": "code",
   "execution_count": 283,
   "id": "73c52dff",
   "metadata": {},
   "outputs": [
    {
     "data": {
      "text/plain": [
       "[Sentence(\"First of all, this is not pullover styling.\"),\n",
       " Sentence(\"there is a side zipper.\"),\n",
       " Sentence(\"i wouldn't have purchased it if i knew there was a side zipper because i have a large bust and side zippers are next to impossible for me.\"),\n",
       " Sentence(\"second of all, the tulle feels and looks cheap and the slip has an awkward tight shape underneath.\"),\n",
       " Sentence(\"not at all what is looks like or is described as.\"),\n",
       " Sentence(\"sadly will be returning, but i'm sure i will find something to exchange it for!\")]"
      ]
     },
     "execution_count": 283,
     "metadata": {},
     "output_type": "execute_result"
    }
   ],
   "source": [
    "# Example 3:\n",
    "TextBlob(data['review text'].iloc[22]).sentences"
   ]
  },
  {
   "cell_type": "markdown",
   "id": "e68afae4",
   "metadata": {},
   "source": [
    "## 13. Using dropna, remove any rows in your data which contain have null in the review column ( hint your new data will be 22641 rows)"
   ]
  },
  {
   "cell_type": "code",
   "execution_count": 284,
   "id": "e1bb441e",
   "metadata": {},
   "outputs": [
    {
     "name": "stdout",
     "output_type": "stream",
     "text": [
      "<class 'pandas.core.frame.DataFrame'>\n",
      "RangeIndex: 23486 entries, 0 to 23485\n",
      "Data columns (total 5 columns):\n",
      " #   Column           Non-Null Count  Dtype \n",
      "---  ------           --------------  ----- \n",
      " 0   title            19676 non-null  object\n",
      " 1   review text      22641 non-null  object\n",
      " 2   rating           23486 non-null  int64 \n",
      " 3   division name    23472 non-null  object\n",
      " 4   department name  23472 non-null  object\n",
      "dtypes: int64(1), object(4)\n",
      "memory usage: 917.5+ KB\n"
     ]
    }
   ],
   "source": [
    "data.info()"
   ]
  },
  {
   "cell_type": "markdown",
   "id": "25df4625",
   "metadata": {},
   "source": [
    "## 14. Define a function with lambda (or other preferred method) to calculate sentiment polarity for each row of the filtered review data set, as a new column on the data frame. (image clothing_sentiment_allrows.png)"
   ]
  },
  {
   "cell_type": "code",
   "execution_count": 286,
   "id": "f82f8c2a",
   "metadata": {},
   "outputs": [
    {
     "name": "stderr",
     "output_type": "stream",
     "text": [
      "C:\\Users\\lluis\\AppData\\Local\\Temp/ipykernel_8348/2935794273.py:1: SettingWithCopyWarning: \n",
      "A value is trying to be set on a copy of a slice from a DataFrame.\n",
      "Try using .loc[row_indexer,col_indexer] = value instead\n",
      "\n",
      "See the caveats in the documentation: https://pandas.pydata.org/pandas-docs/stable/user_guide/indexing.html#returning-a-view-versus-a-copy\n",
      "  data['polarity'] = data['review text'].apply(lambda x:TextBlob(str(x)).sentiment.polarity)\n"
     ]
    }
   ],
   "source": [
    "data['polarity'] = data['review text'].apply(lambda x:TextBlob(str(x)).sentiment.polarity)"
   ]
  },
  {
   "cell_type": "markdown",
   "id": "85711615",
   "metadata": {},
   "source": [
    "## 15. Using the pandas groupby function again, summarise the minimum review polarity, by division and department as a new dataframe (image clothing_min_review.png) - this means whats the lowest sentiment score seen in each department and division - so everything will be less than 0"
   ]
  },
  {
   "cell_type": "code",
   "execution_count": 294,
   "id": "b7a16e8f",
   "metadata": {},
   "outputs": [],
   "source": [
    "polarity_groupby = data.groupby(['division name', 'department name']).agg({'polarity': 'min'})"
   ]
  },
  {
   "cell_type": "code",
   "execution_count": 297,
   "id": "9ff5b6f2",
   "metadata": {
    "scrolled": true
   },
   "outputs": [
    {
     "data": {
      "text/html": [
       "<div>\n",
       "<style scoped>\n",
       "    .dataframe tbody tr th:only-of-type {\n",
       "        vertical-align: middle;\n",
       "    }\n",
       "\n",
       "    .dataframe tbody tr th {\n",
       "        vertical-align: top;\n",
       "    }\n",
       "\n",
       "    .dataframe thead th {\n",
       "        text-align: right;\n",
       "    }\n",
       "</style>\n",
       "<table border=\"1\" class=\"dataframe\">\n",
       "  <thead>\n",
       "    <tr style=\"text-align: right;\">\n",
       "      <th></th>\n",
       "      <th></th>\n",
       "      <th>polarity</th>\n",
       "    </tr>\n",
       "    <tr>\n",
       "      <th>division name</th>\n",
       "      <th>department name</th>\n",
       "      <th></th>\n",
       "    </tr>\n",
       "  </thead>\n",
       "  <tbody>\n",
       "    <tr>\n",
       "      <th rowspan=\"3\" valign=\"top\">General</th>\n",
       "      <th>Tops</th>\n",
       "      <td>-0.975000</td>\n",
       "    </tr>\n",
       "    <tr>\n",
       "      <th>Dresses</th>\n",
       "      <td>-0.916667</td>\n",
       "    </tr>\n",
       "    <tr>\n",
       "      <th>Jackets</th>\n",
       "      <td>-0.750000</td>\n",
       "    </tr>\n",
       "    <tr>\n",
       "      <th rowspan=\"3\" valign=\"top\">General Petite</th>\n",
       "      <th>Tops</th>\n",
       "      <td>-0.700000</td>\n",
       "    </tr>\n",
       "    <tr>\n",
       "      <th>Intimate</th>\n",
       "      <td>-0.575000</td>\n",
       "    </tr>\n",
       "    <tr>\n",
       "      <th>Jackets</th>\n",
       "      <td>-0.562500</td>\n",
       "    </tr>\n",
       "    <tr>\n",
       "      <th>General</th>\n",
       "      <th>Bottoms</th>\n",
       "      <td>-0.533333</td>\n",
       "    </tr>\n",
       "    <tr>\n",
       "      <th>General Petite</th>\n",
       "      <th>Dresses</th>\n",
       "      <td>-0.400000</td>\n",
       "    </tr>\n",
       "    <tr>\n",
       "      <th>Intimates</th>\n",
       "      <th>Intimate</th>\n",
       "      <td>-0.392333</td>\n",
       "    </tr>\n",
       "    <tr>\n",
       "      <th>General</th>\n",
       "      <th>Trend</th>\n",
       "      <td>-0.270833</td>\n",
       "    </tr>\n",
       "    <tr>\n",
       "      <th rowspan=\"2\" valign=\"top\">General Petite</th>\n",
       "      <th>Bottoms</th>\n",
       "      <td>-0.257778</td>\n",
       "    </tr>\n",
       "    <tr>\n",
       "      <th>Trend</th>\n",
       "      <td>-0.083333</td>\n",
       "    </tr>\n",
       "  </tbody>\n",
       "</table>\n",
       "</div>"
      ],
      "text/plain": [
       "                                polarity\n",
       "division name  department name          \n",
       "General        Tops            -0.975000\n",
       "               Dresses         -0.916667\n",
       "               Jackets         -0.750000\n",
       "General Petite Tops            -0.700000\n",
       "               Intimate        -0.575000\n",
       "               Jackets         -0.562500\n",
       "General        Bottoms         -0.533333\n",
       "General Petite Dresses         -0.400000\n",
       "Intimates      Intimate        -0.392333\n",
       "General        Trend           -0.270833\n",
       "General Petite Bottoms         -0.257778\n",
       "               Trend           -0.083333"
      ]
     },
     "execution_count": 297,
     "metadata": {},
     "output_type": "execute_result"
    }
   ],
   "source": [
    "polarity_groupby.sort_values(['polarity'], ascending=True)"
   ]
  },
  {
   "cell_type": "markdown",
   "id": "88d89dc0",
   "metadata": {},
   "source": [
    "## 16. Visualise this summary as a simple sorted bar chart"
   ]
  },
  {
   "cell_type": "code",
   "execution_count": 291,
   "id": "9509ac88",
   "metadata": {},
   "outputs": [
    {
     "data": {
      "text/plain": [
       "<AxesSubplot:ylabel='division name,department name'>"
      ]
     },
     "execution_count": 291,
     "metadata": {},
     "output_type": "execute_result"
    },
    {
     "data": {
      "image/png": "[encoded data removed]",
      "text/plain": [
       "<Figure size 432x288 with 1 Axes>"
      ]
     },
     "metadata": {
      "needs_background": "light"
     },
     "output_type": "display_data"
    }
   ],
   "source": [
    "polarity_groupby.plot (kind = 'barh', color = 'orange')"
   ]
  },
  {
   "cell_type": "markdown",
   "id": "69f51a65",
   "metadata": {},
   "source": [
    "## 17. Using the pandas groupby function again, summarise the average review polarity, by division and department as a new dataframe"
   ]
  },
  {
   "cell_type": "code",
   "execution_count": 303,
   "id": "42dc0756",
   "metadata": {},
   "outputs": [],
   "source": [
    "polarity_groupby_mean = data.groupby(['division name', 'department name']).agg({'polarity': 'mean'})"
   ]
  },
  {
   "cell_type": "markdown",
   "id": "4ba1cce8",
   "metadata": {},
   "source": [
    "## 18. Visualise this summary as a simple sorted bar chart"
   ]
  },
  {
   "cell_type": "code",
   "execution_count": 305,
   "id": "07503abe",
   "metadata": {
    "scrolled": false
   },
   "outputs": [
    {
     "data": {
      "text/plain": [
       "<AxesSubplot:ylabel='division name,department name'>"
      ]
     },
     "execution_count": 305,
     "metadata": {},
     "output_type": "execute_result"
    },
    {
     "data": {
      "image/png": "[encoded data removed]",
      "text/plain": [
       "<Figure size 432x288 with 1 Axes>"
      ]
     },
     "metadata": {
      "needs_background": "light"
     },
     "output_type": "display_data"
    }
   ],
   "source": [
    "polarity_groupby_mean.plot(kind='barh', color='green', legend = False)"
   ]
  }
 ],
 "metadata": {
  "kernelspec": {
   "display_name": "Python 3 (ipykernel)",
   "language": "python",
   "name": "python3"
  },
  "language_info": {
   "codemirror_mode": {
    "name": "ipython",
    "version": 3
   },
   "file_extension": ".py",
   "mimetype": "text/x-python",
   "name": "python",
   "nbconvert_exporter": "python",
   "pygments_lexer": "ipython3",
   "version": "3.9.7"
  },
  "toc": {
   "base_numbering": 1,
   "nav_menu": {},
   "number_sections": true,
   "sideBar": true,
   "skip_h1_title": false,
   "title_cell": "Table of Contents",
   "title_sidebar": "Contents",
   "toc_cell": false,
   "toc_position": {},
   "toc_section_display": true,
   "toc_window_display": false
  },
  "varInspector": {
   "cols": {
    "lenName": 16,
    "lenType": 16,
    "lenVar": 40
   },
   "kernels_config": {
    "python": {
     "delete_cmd_postfix": "",
     "delete_cmd_prefix": "del ",
     "library": "var_list.py",
     "varRefreshCmd": "print(var_dic_list())"
    },
    "r": {
     "delete_cmd_postfix": ") ",
     "delete_cmd_prefix": "rm(",
     "library": "var_list.r",
     "varRefreshCmd": "cat(var_dic_list()) "
    }
   },
   "types_to_exclude": [
    "module",
    "function",
    "builtin_function_or_method",
    "instance",
    "_Feature"
   ],
   "window_display": false
  }
 },
 "nbformat": 4,
 "nbformat_minor": 5
}
