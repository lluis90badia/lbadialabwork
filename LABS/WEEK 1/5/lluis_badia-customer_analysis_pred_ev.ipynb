{
 "cells": [
  {
   "cell_type": "markdown",
   "id": "030eba5e",
   "metadata": {},
   "source": [
    "# Customer Analysis: Prediction & Evaluation"
   ]
  },
  {
   "cell_type": "markdown",
   "id": "ee1748f9",
   "metadata": {},
   "source": [
    "## Familiarise yourself with Data Descriptions and the Goal:"
   ]
  },
  {
   "cell_type": "code",
   "execution_count": 98,
   "id": "79699e20",
   "metadata": {},
   "outputs": [],
   "source": [
    "# Importing the libraries:\n",
    "\n",
    "import numpy as np\n",
    "import pandas as pd\n",
    "import seaborn as sns\n",
    "import matplotlib.pyplot as plt\n",
    "%matplotlib inline\n",
    "from sklearn import linear_model\n",
    "from sklearn.model_selection import train_test_split\n",
    "from sklearn.metrics import mean_squared_error, r2_score\n",
    "from sklearn.preprocessing import OneHotEncoder\n",
    "from sklearn.preprocessing import StandardScaler\n",
    "from math import sqrt\n",
    "from sklearn.metrics import mean_absolute_error as mae\n",
    "from sklearn.preprocessing import MinMaxScaler"
   ]
  },
  {
   "cell_type": "markdown",
   "id": "b411f4af",
   "metadata": {},
   "source": [
    "**data definitions for handy reference:**\n",
    "\n",
    "- Unnamed: Index\n",
    "- customer: Customer ID\n",
    "- state: US State\n",
    "- customer_lifetime_value: CLV is the client economic value for a company during all their relationship\n",
    "- response: Response to marketing calls (customer engagement)\n",
    "- coverage: Customer coverage type\n",
    "- education: Customer education level\n",
    "- effective_to_date: Effective to date\n",
    "- employmentstatus: Customer employment status\n",
    "- gender: Customer gender\n",
    "- income: Customer income\n",
    "- location_code: Customer living zone\n",
    "- marital_status: Customer marital status\n",
    "- monthly_premium_auto: Monthly premium\n",
    "- months_since_last_claim: Last customer claim\n",
    "- months_since_policy_inception: Policy Inception\n",
    "- number_of_open_complaints: Open claims\n",
    "- number_of_policies: Number policies\n",
    "- policy_type: Policy type\n",
    "- policy: Policy\n",
    "- renew_offer_type: Renew\n",
    "- sales_channel: Sales channel (customer-company first contact)\n",
    "- total_claim_amount: Claims amount\n",
    "- vehicle_class: Vehicle class\n",
    "- vehicle_size: Vehicle size\n",
    "- vehicle_type: Vehicle type"
   ]
  },
  {
   "cell_type": "markdown",
   "id": "7f4a9c70",
   "metadata": {},
   "source": [
    "## Read the .csv file into python:"
   ]
  },
  {
   "cell_type": "code",
   "execution_count": 51,
   "id": "980f6128",
   "metadata": {},
   "outputs": [
    {
     "name": "stdout",
     "output_type": "stream",
     "text": [
      "[WinError 2] The system cannot find the file specified: 'LAB - Customer Analysis Round 2'\n",
      "C:\\Users\\lluis\\OneDrive\\Escritorio\\Ironhack\\DAILY\\week 1\\Dia 3\\LAB - Customer Analysis Round 2\n"
     ]
    }
   ],
   "source": [
    "cd LAB - Customer Analysis Round 2"
   ]
  },
  {
   "cell_type": "code",
   "execution_count": 52,
   "id": "2e8f6def",
   "metadata": {},
   "outputs": [],
   "source": [
    "mca=pd.read_csv('marketing_customer_analysis.csv')"
   ]
  },
  {
   "cell_type": "code",
   "execution_count": 53,
   "id": "ff547086",
   "metadata": {},
   "outputs": [
    {
     "data": {
      "text/html": [
       "<div>\n",
       "<style scoped>\n",
       "    .dataframe tbody tr th:only-of-type {\n",
       "        vertical-align: middle;\n",
       "    }\n",
       "\n",
       "    .dataframe tbody tr th {\n",
       "        vertical-align: top;\n",
       "    }\n",
       "\n",
       "    .dataframe thead th {\n",
       "        text-align: right;\n",
       "    }\n",
       "</style>\n",
       "<table border=\"1\" class=\"dataframe\">\n",
       "  <thead>\n",
       "    <tr style=\"text-align: right;\">\n",
       "      <th></th>\n",
       "      <th>Unnamed: 0</th>\n",
       "      <th>Customer Lifetime Value</th>\n",
       "      <th>Income</th>\n",
       "      <th>Monthly Premium Auto</th>\n",
       "      <th>Months Since Last Claim</th>\n",
       "      <th>Months Since Policy Inception</th>\n",
       "      <th>Number of Open Complaints</th>\n",
       "      <th>Number of Policies</th>\n",
       "      <th>Total Claim Amount</th>\n",
       "    </tr>\n",
       "  </thead>\n",
       "  <tbody>\n",
       "    <tr>\n",
       "      <th>count</th>\n",
       "      <td>10910.000000</td>\n",
       "      <td>10910.000000</td>\n",
       "      <td>10910.000000</td>\n",
       "      <td>10910.000000</td>\n",
       "      <td>10277.000000</td>\n",
       "      <td>10910.000000</td>\n",
       "      <td>10277.000000</td>\n",
       "      <td>10910.000000</td>\n",
       "      <td>10910.000000</td>\n",
       "    </tr>\n",
       "    <tr>\n",
       "      <th>mean</th>\n",
       "      <td>5454.500000</td>\n",
       "      <td>8018.241094</td>\n",
       "      <td>37536.284785</td>\n",
       "      <td>93.196059</td>\n",
       "      <td>15.149071</td>\n",
       "      <td>48.091934</td>\n",
       "      <td>0.384256</td>\n",
       "      <td>2.979193</td>\n",
       "      <td>434.888330</td>\n",
       "    </tr>\n",
       "    <tr>\n",
       "      <th>std</th>\n",
       "      <td>3149.590053</td>\n",
       "      <td>6885.081434</td>\n",
       "      <td>30359.195670</td>\n",
       "      <td>34.442532</td>\n",
       "      <td>10.080349</td>\n",
       "      <td>27.940675</td>\n",
       "      <td>0.912457</td>\n",
       "      <td>2.399359</td>\n",
       "      <td>292.180556</td>\n",
       "    </tr>\n",
       "    <tr>\n",
       "      <th>min</th>\n",
       "      <td>0.000000</td>\n",
       "      <td>1898.007675</td>\n",
       "      <td>0.000000</td>\n",
       "      <td>61.000000</td>\n",
       "      <td>0.000000</td>\n",
       "      <td>0.000000</td>\n",
       "      <td>0.000000</td>\n",
       "      <td>1.000000</td>\n",
       "      <td>0.099007</td>\n",
       "    </tr>\n",
       "    <tr>\n",
       "      <th>25%</th>\n",
       "      <td>2727.250000</td>\n",
       "      <td>4014.453113</td>\n",
       "      <td>0.000000</td>\n",
       "      <td>68.000000</td>\n",
       "      <td>6.000000</td>\n",
       "      <td>24.000000</td>\n",
       "      <td>0.000000</td>\n",
       "      <td>1.000000</td>\n",
       "      <td>271.082527</td>\n",
       "    </tr>\n",
       "    <tr>\n",
       "      <th>50%</th>\n",
       "      <td>5454.500000</td>\n",
       "      <td>5771.147235</td>\n",
       "      <td>33813.500000</td>\n",
       "      <td>83.000000</td>\n",
       "      <td>14.000000</td>\n",
       "      <td>48.000000</td>\n",
       "      <td>0.000000</td>\n",
       "      <td>2.000000</td>\n",
       "      <td>382.564630</td>\n",
       "    </tr>\n",
       "    <tr>\n",
       "      <th>75%</th>\n",
       "      <td>8181.750000</td>\n",
       "      <td>8992.779137</td>\n",
       "      <td>62250.750000</td>\n",
       "      <td>109.000000</td>\n",
       "      <td>23.000000</td>\n",
       "      <td>71.000000</td>\n",
       "      <td>0.000000</td>\n",
       "      <td>4.000000</td>\n",
       "      <td>547.200000</td>\n",
       "    </tr>\n",
       "    <tr>\n",
       "      <th>max</th>\n",
       "      <td>10909.000000</td>\n",
       "      <td>83325.381190</td>\n",
       "      <td>99981.000000</td>\n",
       "      <td>298.000000</td>\n",
       "      <td>35.000000</td>\n",
       "      <td>99.000000</td>\n",
       "      <td>5.000000</td>\n",
       "      <td>9.000000</td>\n",
       "      <td>2893.239678</td>\n",
       "    </tr>\n",
       "  </tbody>\n",
       "</table>\n",
       "</div>"
      ],
      "text/plain": [
       "         Unnamed: 0  Customer Lifetime Value        Income  \\\n",
       "count  10910.000000             10910.000000  10910.000000   \n",
       "mean    5454.500000              8018.241094  37536.284785   \n",
       "std     3149.590053              6885.081434  30359.195670   \n",
       "min        0.000000              1898.007675      0.000000   \n",
       "25%     2727.250000              4014.453113      0.000000   \n",
       "50%     5454.500000              5771.147235  33813.500000   \n",
       "75%     8181.750000              8992.779137  62250.750000   \n",
       "max    10909.000000             83325.381190  99981.000000   \n",
       "\n",
       "       Monthly Premium Auto  Months Since Last Claim  \\\n",
       "count          10910.000000             10277.000000   \n",
       "mean              93.196059                15.149071   \n",
       "std               34.442532                10.080349   \n",
       "min               61.000000                 0.000000   \n",
       "25%               68.000000                 6.000000   \n",
       "50%               83.000000                14.000000   \n",
       "75%              109.000000                23.000000   \n",
       "max              298.000000                35.000000   \n",
       "\n",
       "       Months Since Policy Inception  Number of Open Complaints  \\\n",
       "count                   10910.000000               10277.000000   \n",
       "mean                       48.091934                   0.384256   \n",
       "std                        27.940675                   0.912457   \n",
       "min                         0.000000                   0.000000   \n",
       "25%                        24.000000                   0.000000   \n",
       "50%                        48.000000                   0.000000   \n",
       "75%                        71.000000                   0.000000   \n",
       "max                        99.000000                   5.000000   \n",
       "\n",
       "       Number of Policies  Total Claim Amount  \n",
       "count        10910.000000        10910.000000  \n",
       "mean             2.979193          434.888330  \n",
       "std              2.399359          292.180556  \n",
       "min              1.000000            0.099007  \n",
       "25%              1.000000          271.082527  \n",
       "50%              2.000000          382.564630  \n",
       "75%              4.000000          547.200000  \n",
       "max              9.000000         2893.239678  "
      ]
     },
     "execution_count": 53,
     "metadata": {},
     "output_type": "execute_result"
    }
   ],
   "source": [
    "mca.describe()"
   ]
  },
  {
   "cell_type": "markdown",
   "id": "2c53fdbc",
   "metadata": {},
   "source": [
    "## Cleaning/Wrangling/EDA"
   ]
  },
  {
   "cell_type": "markdown",
   "id": "53f1dc9b",
   "metadata": {},
   "source": [
    "### Change headers names. Deal with NaN values, replace with appropriate method:"
   ]
  },
  {
   "cell_type": "code",
   "execution_count": 54,
   "id": "1dd759e0",
   "metadata": {},
   "outputs": [],
   "source": [
    "# We'll standarise the column names to lowercase:\n",
    "cols = []\n",
    "\n",
    "for column in range(len(mca.columns)):\n",
    "    cols.append(mca.columns[column].lower())\n",
    "\n",
    "mca.columns = cols"
   ]
  },
  {
   "cell_type": "code",
   "execution_count": 55,
   "id": "ed94d9a6",
   "metadata": {},
   "outputs": [],
   "source": [
    "# Replacing spaces to '_':\n",
    "mca.columns = mca.columns.str.replace(' ', '_')"
   ]
  },
  {
   "cell_type": "code",
   "execution_count": 56,
   "id": "98ff3ba8",
   "metadata": {},
   "outputs": [
    {
     "data": {
      "text/plain": [
       "Index(['unnamed:_0', 'customer', 'state', 'customer_lifetime_value',\n",
       "       'response', 'coverage', 'education', 'effective_to_date',\n",
       "       'employmentstatus', 'gender', 'income', 'location_code',\n",
       "       'marital_status', 'monthly_premium_auto', 'months_since_last_claim',\n",
       "       'months_since_policy_inception', 'number_of_open_complaints',\n",
       "       'number_of_policies', 'policy_type', 'policy', 'renew_offer_type',\n",
       "       'sales_channel', 'total_claim_amount', 'vehicle_class', 'vehicle_size',\n",
       "       'vehicle_type'],\n",
       "      dtype='object')"
      ]
     },
     "execution_count": 56,
     "metadata": {},
     "output_type": "execute_result"
    }
   ],
   "source": [
    "mca.columns"
   ]
  },
  {
   "cell_type": "code",
   "execution_count": 57,
   "id": "009d5978",
   "metadata": {},
   "outputs": [],
   "source": [
    "# Dropping index and 'vehicle_type' columns:\n",
    "mca = mca.drop(columns = ['unnamed:_0'])\n",
    "mca = mca.drop(columns = ['vehicle_type'])"
   ]
  },
  {
   "cell_type": "code",
   "execution_count": 58,
   "id": "4ceaedf4",
   "metadata": {},
   "outputs": [],
   "source": [
    "# First of all, we use the function 'dropna()' and then restart the index:\n",
    "\n",
    "mca = mca.dropna(how = 'all')\n",
    "mca.reset_index(drop=True, inplace=True)\n",
    "\n",
    "# Column 'state' --> we'll replace NaN with 'Unknown'\n",
    "mca['state'] = mca['state'].fillna(\"Unknown\")\n",
    "\n",
    "# Now, we'll deal with the numerical columns with NaN:\n",
    "mslc = mca['months_since_last_claim'].median()\n",
    "mca['months_since_last_claim'] = mca['months_since_last_claim'].fillna(mslc)\n",
    "\n",
    "nooc = mca['number_of_open_complaints'].median()\n",
    "mca['number_of_open_complaints'] = mca['number_of_open_complaints'].fillna(nooc)\n",
    "\n",
    "# The rest of categorical columns:\n",
    "mca['response'] = mca['response'].fillna(\"Unknown\")\n",
    "mca['vehicle_class'] = mca['vehicle_class'].fillna(\"Unknown\")\n",
    "mca['vehicle_size'] = mca['vehicle_size'].fillna(\"Unknown\")"
   ]
  },
  {
   "cell_type": "code",
   "execution_count": 59,
   "id": "5148c113",
   "metadata": {},
   "outputs": [
    {
     "data": {
      "text/html": [
       "<div>\n",
       "<style scoped>\n",
       "    .dataframe tbody tr th:only-of-type {\n",
       "        vertical-align: middle;\n",
       "    }\n",
       "\n",
       "    .dataframe tbody tr th {\n",
       "        vertical-align: top;\n",
       "    }\n",
       "\n",
       "    .dataframe thead th {\n",
       "        text-align: right;\n",
       "    }\n",
       "</style>\n",
       "<table border=\"1\" class=\"dataframe\">\n",
       "  <thead>\n",
       "    <tr style=\"text-align: right;\">\n",
       "      <th></th>\n",
       "      <th>prop_nulls</th>\n",
       "    </tr>\n",
       "  </thead>\n",
       "  <tbody>\n",
       "    <tr>\n",
       "      <th>customer</th>\n",
       "      <td>0.0</td>\n",
       "    </tr>\n",
       "    <tr>\n",
       "      <th>state</th>\n",
       "      <td>0.0</td>\n",
       "    </tr>\n",
       "    <tr>\n",
       "      <th>customer_lifetime_value</th>\n",
       "      <td>0.0</td>\n",
       "    </tr>\n",
       "    <tr>\n",
       "      <th>response</th>\n",
       "      <td>0.0</td>\n",
       "    </tr>\n",
       "    <tr>\n",
       "      <th>coverage</th>\n",
       "      <td>0.0</td>\n",
       "    </tr>\n",
       "    <tr>\n",
       "      <th>education</th>\n",
       "      <td>0.0</td>\n",
       "    </tr>\n",
       "    <tr>\n",
       "      <th>effective_to_date</th>\n",
       "      <td>0.0</td>\n",
       "    </tr>\n",
       "    <tr>\n",
       "      <th>employmentstatus</th>\n",
       "      <td>0.0</td>\n",
       "    </tr>\n",
       "    <tr>\n",
       "      <th>gender</th>\n",
       "      <td>0.0</td>\n",
       "    </tr>\n",
       "    <tr>\n",
       "      <th>income</th>\n",
       "      <td>0.0</td>\n",
       "    </tr>\n",
       "    <tr>\n",
       "      <th>location_code</th>\n",
       "      <td>0.0</td>\n",
       "    </tr>\n",
       "    <tr>\n",
       "      <th>marital_status</th>\n",
       "      <td>0.0</td>\n",
       "    </tr>\n",
       "    <tr>\n",
       "      <th>monthly_premium_auto</th>\n",
       "      <td>0.0</td>\n",
       "    </tr>\n",
       "    <tr>\n",
       "      <th>months_since_last_claim</th>\n",
       "      <td>0.0</td>\n",
       "    </tr>\n",
       "    <tr>\n",
       "      <th>months_since_policy_inception</th>\n",
       "      <td>0.0</td>\n",
       "    </tr>\n",
       "    <tr>\n",
       "      <th>number_of_open_complaints</th>\n",
       "      <td>0.0</td>\n",
       "    </tr>\n",
       "    <tr>\n",
       "      <th>number_of_policies</th>\n",
       "      <td>0.0</td>\n",
       "    </tr>\n",
       "    <tr>\n",
       "      <th>policy_type</th>\n",
       "      <td>0.0</td>\n",
       "    </tr>\n",
       "    <tr>\n",
       "      <th>policy</th>\n",
       "      <td>0.0</td>\n",
       "    </tr>\n",
       "    <tr>\n",
       "      <th>renew_offer_type</th>\n",
       "      <td>0.0</td>\n",
       "    </tr>\n",
       "    <tr>\n",
       "      <th>sales_channel</th>\n",
       "      <td>0.0</td>\n",
       "    </tr>\n",
       "    <tr>\n",
       "      <th>total_claim_amount</th>\n",
       "      <td>0.0</td>\n",
       "    </tr>\n",
       "    <tr>\n",
       "      <th>vehicle_class</th>\n",
       "      <td>0.0</td>\n",
       "    </tr>\n",
       "    <tr>\n",
       "      <th>vehicle_size</th>\n",
       "      <td>0.0</td>\n",
       "    </tr>\n",
       "  </tbody>\n",
       "</table>\n",
       "</div>"
      ],
      "text/plain": [
       "                               prop_nulls\n",
       "customer                              0.0\n",
       "state                                 0.0\n",
       "customer_lifetime_value               0.0\n",
       "response                              0.0\n",
       "coverage                              0.0\n",
       "education                             0.0\n",
       "effective_to_date                     0.0\n",
       "employmentstatus                      0.0\n",
       "gender                                0.0\n",
       "income                                0.0\n",
       "location_code                         0.0\n",
       "marital_status                        0.0\n",
       "monthly_premium_auto                  0.0\n",
       "months_since_last_claim               0.0\n",
       "months_since_policy_inception         0.0\n",
       "number_of_open_complaints             0.0\n",
       "number_of_policies                    0.0\n",
       "policy_type                           0.0\n",
       "policy                                0.0\n",
       "renew_offer_type                      0.0\n",
       "sales_channel                         0.0\n",
       "total_claim_amount                    0.0\n",
       "vehicle_class                         0.0\n",
       "vehicle_size                          0.0"
      ]
     },
     "execution_count": 59,
     "metadata": {},
     "output_type": "execute_result"
    }
   ],
   "source": [
    "# After that, we check the % of NaN has each column:\n",
    "\n",
    "nulls_df = pd.DataFrame(round(mca.isna().sum() / len(mca), 4) * 100)\n",
    "nulls_df = nulls_df.rename(columns = {'index':'header', 0: 'prop_nulls'})\n",
    "nulls_df      # output: no NULL values"
   ]
  },
  {
   "cell_type": "markdown",
   "id": "b18c0eff",
   "metadata": {},
   "source": [
    "### Split categorical Features and Numerical Features:"
   ]
  },
  {
   "cell_type": "code",
   "execution_count": 60,
   "id": "a61cca57",
   "metadata": {},
   "outputs": [],
   "source": [
    "# Before to execute the split, we select the objective:\n",
    "y = mca['total_claim_amount']\n",
    "X = mca.drop(['total_claim_amount'], axis = 1)\n",
    "\n",
    "# Dropping 'customer' column:\n",
    "X = X.drop(['customer', 'effective_to_date'], axis = 1)\n",
    "\n",
    "# Separating the numerical and categorical features:\n",
    "X_num = X.select_dtypes(include = np.number)\n",
    "X_cat = X.select_dtypes(include = object)"
   ]
  },
  {
   "cell_type": "markdown",
   "id": "42701c7e",
   "metadata": {},
   "source": [
    "### Explore visually both sets of features, to identify next steps:"
   ]
  },
  {
   "cell_type": "code",
   "execution_count": 61,
   "id": "9e2eedba",
   "metadata": {},
   "outputs": [
    {
     "data": {
      "image/png": "[encoded data removed]",
      "text/plain": [
       "<Figure size 1080x1080 with 8 Axes>"
      ]
     },
     "metadata": {
      "needs_background": "light"
     },
     "output_type": "display_data"
    }
   ],
   "source": [
    "# Numericals:\n",
    "X_num.hist(figsize = (15, 15), bins = 20, layout = (4, 2));"
   ]
  },
  {
   "cell_type": "code",
   "execution_count": 62,
   "id": "03b356a7",
   "metadata": {},
   "outputs": [
    {
     "data": {
      "image/png": "[encoded data removed]",
      "text/plain": [
       "<Figure size 432x288 with 1 Axes>"
      ]
     },
     "metadata": {
      "needs_background": "light"
     },
     "output_type": "display_data"
    }
   ],
   "source": [
    "# Categoricals:\n",
    "\n",
    "# For example, a distribution plot between the 'response' (Yes / No) and the 'total_claim_amount':\n",
    "query = mca.query('response == [\"Yes\", \"No\"]')\n",
    "mca.groupby(query['response'])['total_claim_amount'].hist(bins=20, legend = True);"
   ]
  },
  {
   "cell_type": "code",
   "execution_count": 63,
   "id": "e6d18eb5",
   "metadata": {},
   "outputs": [
    {
     "data": {
      "image/png": "[encoded data removed]",
      "text/plain": [
       "<Figure size 432x288 with 1 Axes>"
      ]
     },
     "metadata": {
      "needs_background": "light"
     },
     "output_type": "display_data"
    }
   ],
   "source": [
    "mca.groupby(query['response'])['income'].hist(bins=20, legend = True);"
   ]
  },
  {
   "cell_type": "markdown",
   "id": "224113dd",
   "metadata": {},
   "source": [
    "### Look at potential multicollinearity using a correlation matrix or other approach:"
   ]
  },
  {
   "cell_type": "code",
   "execution_count": 64,
   "id": "c0d01fb3",
   "metadata": {},
   "outputs": [
    {
     "data": {
      "image/png": "[encoded data removed]",
      "text/plain": [
       "<Figure size 720x576 with 2 Axes>"
      ]
     },
     "metadata": {
      "needs_background": "light"
     },
     "output_type": "display_data"
    }
   ],
   "source": [
    "corre_matrix = X_num.corr()     # by default, it will display PEARSONS correlation\n",
    "\n",
    "mask = np.zeros_like(corre_matrix)\n",
    "mask[np.triu_indices_from(mask)] = True\n",
    "fig, ax = plt.subplots(figsize = (10, 8))\n",
    "ax = sns.heatmap(corre_matrix, mask = mask, annot = True, cmap = sns.diverging_palette(220, 20, as_cmap = True));"
   ]
  },
  {
   "cell_type": "markdown",
   "id": "3223291d",
   "metadata": {},
   "source": [
    "## Pre-Processing Data"
   ]
  },
  {
   "cell_type": "markdown",
   "id": "e12033d9",
   "metadata": {},
   "source": [
    "### Dealing with outliers. Normalization - ie use chosen scaler to transform selected columns into normal distribution as needed for linear regression model. Propose: MinMax scaler on 'effective_to_date' and standard scaler on numerical columns."
   ]
  },
  {
   "cell_type": "code",
   "execution_count": 65,
   "id": "3ff85321",
   "metadata": {},
   "outputs": [
    {
     "data": {
      "text/plain": [
       "<AxesSubplot:>"
      ]
     },
     "execution_count": 65,
     "metadata": {},
     "output_type": "execute_result"
    },
    {
     "data": {
      "image/png": "[encoded data removed]",
      "text/plain": [
       "<Figure size 432x288 with 1 Axes>"
      ]
     },
     "metadata": {
      "needs_background": "light"
     },
     "output_type": "display_data"
    }
   ],
   "source": [
    "# 1) Preprocessing 'number_of_policies' column:\n",
    "mca['number_of_policies'].hist()"
   ]
  },
  {
   "cell_type": "code",
   "execution_count": 66,
   "id": "5dacab70",
   "metadata": {},
   "outputs": [],
   "source": [
    "iqr = np.percentile(mca['number_of_policies'],75) - np.percentile(mca['number_of_policies'], 25)\n",
    "\n",
    "upper_limit = np.percentile(mca['number_of_policies'], 75) + 1.5 * iqr\n",
    "lower_limit = np.percentile(mca['number_of_policies'], 25) - 1.5 * iqr\n",
    "\n",
    "# example only --> we will use a nes df variable:\n",
    "data_exc_out = mca[(mca['number_of_policies'] > lower_limit) & (mca['number_of_policies'] < upper_limit)]"
   ]
  },
  {
   "cell_type": "code",
   "execution_count": 67,
   "id": "7c3fbf13",
   "metadata": {},
   "outputs": [
    {
     "data": {
      "text/plain": [
       "<AxesSubplot:>"
      ]
     },
     "execution_count": 67,
     "metadata": {},
     "output_type": "execute_result"
    },
    {
     "data": {
      "image/png": "[encoded data removed]",
      "text/plain": [
       "<Figure size 432x288 with 1 Axes>"
      ]
     },
     "metadata": {
      "needs_background": "light"
     },
     "output_type": "display_data"
    }
   ],
   "source": [
    "data_exc_out['number_of_policies'].hist()"
   ]
  },
  {
   "cell_type": "code",
   "execution_count": 68,
   "id": "80bf5d79",
   "metadata": {},
   "outputs": [
    {
     "data": {
      "text/plain": [
       "<AxesSubplot:>"
      ]
     },
     "execution_count": 68,
     "metadata": {},
     "output_type": "execute_result"
    },
    {
     "data": {
      "image/png": "[encoded data removed]",
      "text/plain": [
       "<Figure size 432x288 with 1 Axes>"
      ]
     },
     "metadata": {
      "needs_background": "light"
     },
     "output_type": "display_data"
    }
   ],
   "source": [
    "# 2) Preprocessing 'number_of_open_complaints' column:\n",
    "mca['number_of_open_complaints'].hist()"
   ]
  },
  {
   "cell_type": "code",
   "execution_count": 69,
   "id": "5234dbd0",
   "metadata": {},
   "outputs": [],
   "source": [
    "iqr2 = np.percentile(mca['number_of_open_complaints'],75) - np.percentile(mca['number_of_open_complaints'], 25)\n",
    "\n",
    "upper_limit2 = np.percentile(mca['number_of_open_complaints'], 75) + 1.5 * iqr\n",
    "lower_limit2 = np.percentile(mca['number_of_open_complaints'], 25) - 1.5 * iqr\n",
    "\n",
    "# example only --> we will use a nes df variable:\n",
    "data_exc_out2 = mca[(mca['number_of_open_complaints'] > lower_limit2) & (mca['number_of_open_complaints'] < upper_limit2)]"
   ]
  },
  {
   "cell_type": "code",
   "execution_count": 70,
   "id": "0094bf16",
   "metadata": {},
   "outputs": [
    {
     "data": {
      "text/plain": [
       "<AxesSubplot:>"
      ]
     },
     "execution_count": 70,
     "metadata": {},
     "output_type": "execute_result"
    },
    {
     "data": {
      "image/png": "[encoded data removed]",
      "text/plain": [
       "<Figure size 432x288 with 1 Axes>"
      ]
     },
     "metadata": {
      "needs_background": "light"
     },
     "output_type": "display_data"
    }
   ],
   "source": [
    "data_exc_out2['number_of_open_complaints'].hist()"
   ]
  },
  {
   "cell_type": "markdown",
   "id": "63722fc2",
   "metadata": {},
   "source": [
    "**Summary preprocessing**: the columns chosen to execute it are not appropiate because their pattern is more categorical rather than numerical (the visualisation of the charts do not seem continuous). Therefore, we will try to execute with the column \"customer_lifetime_value\" and \"monthly_premium_auto\"."
   ]
  },
  {
   "cell_type": "code",
   "execution_count": 71,
   "id": "c9c6af6d",
   "metadata": {},
   "outputs": [
    {
     "data": {
      "image/png": "[encoded data removed]",
      "text/plain": [
       "<Figure size 1080x1080 with 8 Axes>"
      ]
     },
     "metadata": {
      "needs_background": "light"
     },
     "output_type": "display_data"
    }
   ],
   "source": [
    "# General visualisation of our numerical columns with histograms:\n",
    "\n",
    "X_num.hist(figsize = (15, 15), bins = 20, layout = (4, 2));"
   ]
  },
  {
   "cell_type": "code",
   "execution_count": 72,
   "id": "b8bb94f3",
   "metadata": {},
   "outputs": [
    {
     "data": {
      "text/plain": [
       "<AxesSubplot:>"
      ]
     },
     "execution_count": 72,
     "metadata": {},
     "output_type": "execute_result"
    },
    {
     "data": {
      "image/png": "[encoded data removed]",
      "text/plain": [
       "<Figure size 432x288 with 1 Axes>"
      ]
     },
     "metadata": {
      "needs_background": "light"
     },
     "output_type": "display_data"
    }
   ],
   "source": [
    "# 2) Preprocessing 'customer_lifetime_value' column:\n",
    "mca['customer_lifetime_value'].hist()"
   ]
  },
  {
   "cell_type": "code",
   "execution_count": 73,
   "id": "d0624194",
   "metadata": {},
   "outputs": [
    {
     "data": {
      "text/plain": [
       "<AxesSubplot:>"
      ]
     },
     "execution_count": 73,
     "metadata": {},
     "output_type": "execute_result"
    },
    {
     "data": {
      "image/png": "[encoded data removed]",
      "text/plain": [
       "<Figure size 432x288 with 1 Axes>"
      ]
     },
     "metadata": {
      "needs_background": "light"
     },
     "output_type": "display_data"
    }
   ],
   "source": [
    "iqr3 = np.percentile(mca['customer_lifetime_value'],75) - np.percentile(mca['customer_lifetime_value'], 25)\n",
    "\n",
    "upper_limit3 = np.percentile(mca['customer_lifetime_value'], 75) + 1.5 * iqr\n",
    "lower_limit3 = np.percentile(mca['customer_lifetime_value'], 25) - 1.5 * iqr\n",
    "\n",
    "data_exc_out3 = mca[(mca['customer_lifetime_value'] > lower_limit3) & (mca['customer_lifetime_value'] < upper_limit3)]\n",
    "\n",
    "data_exc_out3['customer_lifetime_value'].hist()   # it looks like a more normal distribution."
   ]
  },
  {
   "cell_type": "code",
   "execution_count": 74,
   "id": "cf54ac05",
   "metadata": {},
   "outputs": [
    {
     "data": {
      "text/plain": [
       "<AxesSubplot:>"
      ]
     },
     "execution_count": 74,
     "metadata": {},
     "output_type": "execute_result"
    },
    {
     "data": {
      "image/png": "[encoded data removed]",
      "text/plain": [
       "<Figure size 432x288 with 1 Axes>"
      ]
     },
     "metadata": {
      "needs_background": "light"
     },
     "output_type": "display_data"
    }
   ],
   "source": [
    "# 2) Preprocessing 'income' column:\n",
    "mca['income'].hist()"
   ]
  },
  {
   "cell_type": "code",
   "execution_count": 75,
   "id": "1590fc1e",
   "metadata": {},
   "outputs": [
    {
     "data": {
      "text/plain": [
       "<AxesSubplot:>"
      ]
     },
     "execution_count": 75,
     "metadata": {},
     "output_type": "execute_result"
    },
    {
     "data": {
      "image/png": "[encoded data removed]",
      "text/plain": [
       "<Figure size 432x288 with 1 Axes>"
      ]
     },
     "metadata": {
      "needs_background": "light"
     },
     "output_type": "display_data"
    }
   ],
   "source": [
    "iqr4 = np.percentile(mca['income'],75) - np.percentile(mca['income'], 25)\n",
    "\n",
    "upper_limit4 = np.percentile(mca['income'], 75) + 1.5 * iqr\n",
    "lower_limit4 = np.percentile(mca['income'], 25) - 1.5 * iqr\n",
    "\n",
    "data_exc_out4 = mca[(mca['income'] > lower_limit4) & (mca['income'] < upper_limit4)]\n",
    "\n",
    "data_exc_out4['income'].hist()       # no changes appeared (same pattern -> no normal distribution)"
   ]
  },
  {
   "cell_type": "markdown",
   "id": "cda4703d",
   "metadata": {},
   "source": [
    "### Encoding Categorical Data fields using OHE:"
   ]
  },
  {
   "cell_type": "code",
   "execution_count": 76,
   "id": "8cd436cc",
   "metadata": {},
   "outputs": [],
   "source": [
    "encoder = OneHotEncoder(handle_unknown = 'error', drop = 'first').fit(X_cat)\n",
    "X_encoded = encoder.transform(X_cat).toarray()\n",
    "\n",
    "# Getting dummies:\n",
    "X_dummies = pd.get_dummies(X_cat, drop_first = True)"
   ]
  },
  {
   "cell_type": "markdown",
   "id": "bb40fd59",
   "metadata": {},
   "source": [
    "### Bring categorical and numerical columns back together using pd.concat:"
   ]
  },
  {
   "cell_type": "code",
   "execution_count": 77,
   "id": "fc65063a",
   "metadata": {},
   "outputs": [],
   "source": [
    "X_final = pd.concat((X_num, X_dummies), axis = 1)"
   ]
  },
  {
   "cell_type": "code",
   "execution_count": 78,
   "id": "7a08ea7a",
   "metadata": {
    "scrolled": true
   },
   "outputs": [
    {
     "data": {
      "text/html": [
       "<div>\n",
       "<style scoped>\n",
       "    .dataframe tbody tr th:only-of-type {\n",
       "        vertical-align: middle;\n",
       "    }\n",
       "\n",
       "    .dataframe tbody tr th {\n",
       "        vertical-align: top;\n",
       "    }\n",
       "\n",
       "    .dataframe thead th {\n",
       "        text-align: right;\n",
       "    }\n",
       "</style>\n",
       "<table border=\"1\" class=\"dataframe\">\n",
       "  <thead>\n",
       "    <tr style=\"text-align: right;\">\n",
       "      <th></th>\n",
       "      <th>customer_lifetime_value</th>\n",
       "      <th>income</th>\n",
       "      <th>monthly_premium_auto</th>\n",
       "      <th>months_since_last_claim</th>\n",
       "      <th>months_since_policy_inception</th>\n",
       "      <th>number_of_open_complaints</th>\n",
       "      <th>number_of_policies</th>\n",
       "      <th>state_California</th>\n",
       "      <th>state_Nevada</th>\n",
       "      <th>state_Oregon</th>\n",
       "      <th>...</th>\n",
       "      <th>sales_channel_Web</th>\n",
       "      <th>vehicle_class_Luxury Car</th>\n",
       "      <th>vehicle_class_Luxury SUV</th>\n",
       "      <th>vehicle_class_SUV</th>\n",
       "      <th>vehicle_class_Sports Car</th>\n",
       "      <th>vehicle_class_Two-Door Car</th>\n",
       "      <th>vehicle_class_Unknown</th>\n",
       "      <th>vehicle_size_Medsize</th>\n",
       "      <th>vehicle_size_Small</th>\n",
       "      <th>vehicle_size_Unknown</th>\n",
       "    </tr>\n",
       "  </thead>\n",
       "  <tbody>\n",
       "    <tr>\n",
       "      <th>0</th>\n",
       "      <td>4809.216960</td>\n",
       "      <td>48029</td>\n",
       "      <td>61</td>\n",
       "      <td>7.0</td>\n",
       "      <td>52</td>\n",
       "      <td>0.0</td>\n",
       "      <td>9</td>\n",
       "      <td>0</td>\n",
       "      <td>0</td>\n",
       "      <td>0</td>\n",
       "      <td>...</td>\n",
       "      <td>0</td>\n",
       "      <td>0</td>\n",
       "      <td>0</td>\n",
       "      <td>0</td>\n",
       "      <td>0</td>\n",
       "      <td>0</td>\n",
       "      <td>0</td>\n",
       "      <td>1</td>\n",
       "      <td>0</td>\n",
       "      <td>0</td>\n",
       "    </tr>\n",
       "    <tr>\n",
       "      <th>1</th>\n",
       "      <td>2228.525238</td>\n",
       "      <td>0</td>\n",
       "      <td>64</td>\n",
       "      <td>3.0</td>\n",
       "      <td>26</td>\n",
       "      <td>0.0</td>\n",
       "      <td>1</td>\n",
       "      <td>1</td>\n",
       "      <td>0</td>\n",
       "      <td>0</td>\n",
       "      <td>...</td>\n",
       "      <td>0</td>\n",
       "      <td>0</td>\n",
       "      <td>0</td>\n",
       "      <td>0</td>\n",
       "      <td>0</td>\n",
       "      <td>0</td>\n",
       "      <td>0</td>\n",
       "      <td>1</td>\n",
       "      <td>0</td>\n",
       "      <td>0</td>\n",
       "    </tr>\n",
       "    <tr>\n",
       "      <th>2</th>\n",
       "      <td>14947.917300</td>\n",
       "      <td>22139</td>\n",
       "      <td>100</td>\n",
       "      <td>34.0</td>\n",
       "      <td>31</td>\n",
       "      <td>0.0</td>\n",
       "      <td>2</td>\n",
       "      <td>0</td>\n",
       "      <td>0</td>\n",
       "      <td>0</td>\n",
       "      <td>...</td>\n",
       "      <td>0</td>\n",
       "      <td>0</td>\n",
       "      <td>0</td>\n",
       "      <td>1</td>\n",
       "      <td>0</td>\n",
       "      <td>0</td>\n",
       "      <td>0</td>\n",
       "      <td>1</td>\n",
       "      <td>0</td>\n",
       "      <td>0</td>\n",
       "    </tr>\n",
       "    <tr>\n",
       "      <th>3</th>\n",
       "      <td>22332.439460</td>\n",
       "      <td>49078</td>\n",
       "      <td>97</td>\n",
       "      <td>10.0</td>\n",
       "      <td>3</td>\n",
       "      <td>0.0</td>\n",
       "      <td>2</td>\n",
       "      <td>0</td>\n",
       "      <td>0</td>\n",
       "      <td>1</td>\n",
       "      <td>...</td>\n",
       "      <td>0</td>\n",
       "      <td>0</td>\n",
       "      <td>0</td>\n",
       "      <td>0</td>\n",
       "      <td>0</td>\n",
       "      <td>0</td>\n",
       "      <td>0</td>\n",
       "      <td>1</td>\n",
       "      <td>0</td>\n",
       "      <td>0</td>\n",
       "    </tr>\n",
       "    <tr>\n",
       "      <th>4</th>\n",
       "      <td>9025.067525</td>\n",
       "      <td>23675</td>\n",
       "      <td>117</td>\n",
       "      <td>14.0</td>\n",
       "      <td>31</td>\n",
       "      <td>0.0</td>\n",
       "      <td>7</td>\n",
       "      <td>0</td>\n",
       "      <td>0</td>\n",
       "      <td>1</td>\n",
       "      <td>...</td>\n",
       "      <td>0</td>\n",
       "      <td>0</td>\n",
       "      <td>0</td>\n",
       "      <td>0</td>\n",
       "      <td>0</td>\n",
       "      <td>0</td>\n",
       "      <td>0</td>\n",
       "      <td>1</td>\n",
       "      <td>0</td>\n",
       "      <td>0</td>\n",
       "    </tr>\n",
       "  </tbody>\n",
       "</table>\n",
       "<p>5 rows × 54 columns</p>\n",
       "</div>"
      ],
      "text/plain": [
       "   customer_lifetime_value  income  monthly_premium_auto  \\\n",
       "0              4809.216960   48029                    61   \n",
       "1              2228.525238       0                    64   \n",
       "2             14947.917300   22139                   100   \n",
       "3             22332.439460   49078                    97   \n",
       "4              9025.067525   23675                   117   \n",
       "\n",
       "   months_since_last_claim  months_since_policy_inception  \\\n",
       "0                      7.0                             52   \n",
       "1                      3.0                             26   \n",
       "2                     34.0                             31   \n",
       "3                     10.0                              3   \n",
       "4                     14.0                             31   \n",
       "\n",
       "   number_of_open_complaints  number_of_policies  state_California  \\\n",
       "0                        0.0                   9                 0   \n",
       "1                        0.0                   1                 1   \n",
       "2                        0.0                   2                 0   \n",
       "3                        0.0                   2                 0   \n",
       "4                        0.0                   7                 0   \n",
       "\n",
       "   state_Nevada  state_Oregon  ...  sales_channel_Web  \\\n",
       "0             0             0  ...                  0   \n",
       "1             0             0  ...                  0   \n",
       "2             0             0  ...                  0   \n",
       "3             0             1  ...                  0   \n",
       "4             0             1  ...                  0   \n",
       "\n",
       "   vehicle_class_Luxury Car  vehicle_class_Luxury SUV  vehicle_class_SUV  \\\n",
       "0                         0                         0                  0   \n",
       "1                         0                         0                  0   \n",
       "2                         0                         0                  1   \n",
       "3                         0                         0                  0   \n",
       "4                         0                         0                  0   \n",
       "\n",
       "   vehicle_class_Sports Car  vehicle_class_Two-Door Car  \\\n",
       "0                         0                           0   \n",
       "1                         0                           0   \n",
       "2                         0                           0   \n",
       "3                         0                           0   \n",
       "4                         0                           0   \n",
       "\n",
       "   vehicle_class_Unknown  vehicle_size_Medsize  vehicle_size_Small  \\\n",
       "0                      0                     1                   0   \n",
       "1                      0                     1                   0   \n",
       "2                      0                     1                   0   \n",
       "3                      0                     1                   0   \n",
       "4                      0                     1                   0   \n",
       "\n",
       "   vehicle_size_Unknown  \n",
       "0                     0  \n",
       "1                     0  \n",
       "2                     0  \n",
       "3                     0  \n",
       "4                     0  \n",
       "\n",
       "[5 rows x 54 columns]"
      ]
     },
     "execution_count": 78,
     "metadata": {},
     "output_type": "execute_result"
    }
   ],
   "source": [
    "X_final.head()"
   ]
  },
  {
   "cell_type": "markdown",
   "id": "c7c1b92c",
   "metadata": {},
   "source": [
    "### Define X and y, the y value you are seeking to predict is claim amount:"
   ]
  },
  {
   "cell_type": "code",
   "execution_count": 79,
   "id": "64a1b1e0",
   "metadata": {},
   "outputs": [],
   "source": [
    "X = X_final"
   ]
  },
  {
   "cell_type": "code",
   "execution_count": 80,
   "id": "845d2b30",
   "metadata": {},
   "outputs": [
    {
     "data": {
      "text/plain": [
       "(10910, 54)"
      ]
     },
     "execution_count": 80,
     "metadata": {},
     "output_type": "execute_result"
    }
   ],
   "source": [
    "X.shape"
   ]
  },
  {
   "cell_type": "code",
   "execution_count": 81,
   "id": "62a4ebb5",
   "metadata": {},
   "outputs": [
    {
     "data": {
      "text/plain": [
       "(10910,)"
      ]
     },
     "execution_count": 81,
     "metadata": {},
     "output_type": "execute_result"
    }
   ],
   "source": [
    "y.shape"
   ]
  },
  {
   "cell_type": "markdown",
   "id": "08b56c3e",
   "metadata": {},
   "source": [
    "### Splitting into train set and test dataset using random state, eg 80%:20%:"
   ]
  },
  {
   "cell_type": "code",
   "execution_count": 82,
   "id": "e9d2765e",
   "metadata": {},
   "outputs": [],
   "source": [
    "X_train, X_test, y_train, y_test = train_test_split(X_final, y, test_size = 0.2, random_state = 40)"
   ]
  },
  {
   "cell_type": "markdown",
   "id": "f087e938",
   "metadata": {},
   "source": [
    "## Modeling"
   ]
  },
  {
   "cell_type": "markdown",
   "id": "f9c58812",
   "metadata": {},
   "source": [
    "### Apply linear regression model from sklearn.linear_model:"
   ]
  },
  {
   "cell_type": "code",
   "execution_count": 83,
   "id": "1ff01d4a",
   "metadata": {},
   "outputs": [],
   "source": [
    "lm = linear_model.LinearRegression()     # configuring the model\n",
    "model = lm.fit(X_train, y_train)"
   ]
  },
  {
   "cell_type": "markdown",
   "id": "91c903e1",
   "metadata": {},
   "source": [
    "### Fit over your train data and predict against X test:"
   ]
  },
  {
   "cell_type": "code",
   "execution_count": 84,
   "id": "7835ca43",
   "metadata": {},
   "outputs": [],
   "source": [
    "preds = lm.predict(X_test)"
   ]
  },
  {
   "cell_type": "code",
   "execution_count": 85,
   "id": "243f65a3",
   "metadata": {},
   "outputs": [
    {
     "data": {
      "text/plain": [
       "array([482.56059604, 943.19288248, 385.05015397, ..., 597.16035792,\n",
       "       505.64500273, 146.43581053])"
      ]
     },
     "execution_count": 85,
     "metadata": {},
     "output_type": "execute_result"
    }
   ],
   "source": [
    "preds"
   ]
  },
  {
   "cell_type": "markdown",
   "id": "3cf8e077",
   "metadata": {},
   "source": [
    "## Model Validation"
   ]
  },
  {
   "cell_type": "markdown",
   "id": "5123cdca",
   "metadata": {},
   "source": [
    "### You should gather appropriate metrics to evaluate model accuracy over y_test- such as : R2. MSE. RMSE. MAE:"
   ]
  },
  {
   "cell_type": "markdown",
   "id": "77b5d23b",
   "metadata": {},
   "source": [
    "- **R-squared (R2)**: corresponds to the squared correlation between the observed outcome values and the predicted values by the model (the higher the R2, the better the model).\n",
    "\n",
    "- **Root Mean Squared Error (RMSE)**: measures the average error performed by the model in predicting the outcome for an observation. It is the average squared difference between the observed actual outcome values and the values predicted by the model (the lower the RMSE, the better the model).\n",
    "\n",
    "- **Mean Absolute Error (MAE)**: like the RMSE, the MAE measures the prediction error. It is the average absolute difference between observed and predicted outcomes (MAE is less sensitive to outliers compared to RMSE).\n",
    "\n",
    "- **Residual Standard Error** (**RSE** o model sigma): is a variant of the RMSE adjusted for the number of predictors in the model (the lower the RSE, the better the model). "
   ]
  },
  {
   "cell_type": "code",
   "execution_count": 86,
   "id": "daae25ff",
   "metadata": {},
   "outputs": [
    {
     "data": {
      "text/plain": [
       "0.77"
      ]
     },
     "execution_count": 86,
     "metadata": {},
     "output_type": "execute_result"
    }
   ],
   "source": [
    "# R-squared (R2):\n",
    "\n",
    "round(r2_score(y_test, preds), 2)"
   ]
  },
  {
   "cell_type": "code",
   "execution_count": 87,
   "id": "0408fad3",
   "metadata": {
    "scrolled": true
   },
   "outputs": [
    {
     "data": {
      "text/plain": [
       "19590.73"
      ]
     },
     "execution_count": 87,
     "metadata": {},
     "output_type": "execute_result"
    }
   ],
   "source": [
    "# Mean Squared Error (MSE):\n",
    "\n",
    "round(mean_squared_error(y_test, preds), 2)"
   ]
  },
  {
   "cell_type": "code",
   "execution_count": 88,
   "id": "e473eca8",
   "metadata": {},
   "outputs": [
    {
     "data": {
      "text/plain": [
       "139.97"
      ]
     },
     "execution_count": 88,
     "metadata": {},
     "output_type": "execute_result"
    }
   ],
   "source": [
    "# Root of the Mean of the Square of Errors (RMSE):\n",
    "\n",
    "root_mean_square_errors = sqrt(mean_squared_error(y_test, preds))\n",
    "round(root_mean_square_errors, 2)"
   ]
  },
  {
   "cell_type": "code",
   "execution_count": 89,
   "id": "0e4ac50a",
   "metadata": {},
   "outputs": [
    {
     "data": {
      "text/plain": [
       "94.81"
      ]
     },
     "execution_count": 89,
     "metadata": {},
     "output_type": "execute_result"
    }
   ],
   "source": [
    "# Mean Absolute Error (MAE):\n",
    "\n",
    "mean_abs_error = mae(y_test, preds)\n",
    "round(mean_abs_error, 2)"
   ]
  },
  {
   "cell_type": "markdown",
   "id": "990fda7b",
   "metadata": {},
   "source": [
    "## Reporting:"
   ]
  },
  {
   "cell_type": "markdown",
   "id": "d5ea1723",
   "metadata": {},
   "source": [
    "### Present results inside your notebook with appropriate annotation describing the accuracy of the model and business insight gained:"
   ]
  },
  {
   "cell_type": "markdown",
   "id": "5202c06e",
   "metadata": {},
   "source": [
    "Looking at the results we extracted with the model applied, we get an accuracy of 77% with a mean of 19.590 dolars per claim and between 94 and almost 140 dolars of margin of error."
   ]
  },
  {
   "cell_type": "markdown",
   "id": "ec53f85a",
   "metadata": {},
   "source": [
    "# Comparative of the effect of different scalers on data outliers (Day 6):"
   ]
  },
  {
   "cell_type": "code",
   "execution_count": 90,
   "id": "4a5040fe",
   "metadata": {},
   "outputs": [],
   "source": [
    "test1 = mca"
   ]
  },
  {
   "cell_type": "code",
   "execution_count": 101,
   "id": "57f2c5df",
   "metadata": {},
   "outputs": [],
   "source": [
    "# Before to execute the split, we select the objective:\n",
    "y = test1['total_claim_amount']\n",
    "X = test1.drop(['total_claim_amount'], axis = 1)\n",
    "\n",
    "# Dropping 'customer' column:\n",
    "X = X.drop(['customer'], axis = 1)\n",
    "\n",
    "# Separating the numerical and categorical features:\n",
    "X_num = X.select_dtypes(include = np.number)\n",
    "X_cat = X.select_dtypes(include = object)"
   ]
  },
  {
   "cell_type": "code",
   "execution_count": 105,
   "id": "0aebd2e5",
   "metadata": {},
   "outputs": [],
   "source": [
    "test1['effective_to_date'] = pd.to_datetime(test1['effective_to_date'], errors = 'coerce')"
   ]
  },
  {
   "cell_type": "code",
   "execution_count": 107,
   "id": "42d97847",
   "metadata": {},
   "outputs": [],
   "source": [
    "# 1) MinMaxScaler -> date"
   ]
  },
  {
   "cell_type": "code",
   "execution_count": 110,
   "id": "5623d031",
   "metadata": {},
   "outputs": [
    {
     "ename": "ValueError",
     "evalue": "Expected 2D array, got 1D array instead:\narray=[1.2979872e+18 1.2953088e+18 1.2972960e+18 ... 1.2969504e+18 1.2975552e+18\n 1.2944448e+18].\nReshape your data either using array.reshape(-1, 1) if your data has a single feature or array.reshape(1, -1) if it contains a single sample.",
     "output_type": "error",
     "traceback": [
      "\u001b[1;31m---------------------------------------------------------------------------\u001b[0m",
      "\u001b[1;31mValueError\u001b[0m                                Traceback (most recent call last)",
      "\u001b[1;32m~\\AppData\\Local\\Temp/ipykernel_4276/363215701.py\u001b[0m in \u001b[0;36m<module>\u001b[1;34m\u001b[0m\n\u001b[0;32m      1\u001b[0m \u001b[0mscaler\u001b[0m \u001b[1;33m=\u001b[0m \u001b[0mMinMaxScaler\u001b[0m\u001b[1;33m(\u001b[0m\u001b[1;33m)\u001b[0m\u001b[1;33m\u001b[0m\u001b[1;33m\u001b[0m\u001b[0m\n\u001b[1;32m----> 2\u001b[1;33m \u001b[0mscaled\u001b[0m \u001b[1;33m=\u001b[0m \u001b[0mscaler\u001b[0m\u001b[1;33m.\u001b[0m\u001b[0mfit\u001b[0m\u001b[1;33m(\u001b[0m\u001b[0mtest1\u001b[0m\u001b[1;33m[\u001b[0m\u001b[1;34m'effective_to_date'\u001b[0m\u001b[1;33m]\u001b[0m\u001b[1;33m)\u001b[0m\u001b[1;33m\u001b[0m\u001b[1;33m\u001b[0m\u001b[0m\n\u001b[0m\u001b[0;32m      3\u001b[0m \u001b[0mscaled_date\u001b[0m \u001b[1;33m=\u001b[0m \u001b[0mscaled\u001b[0m\u001b[1;33m.\u001b[0m\u001b[0mtransform\u001b[0m\u001b[1;33m(\u001b[0m\u001b[0mtest1\u001b[0m\u001b[1;33m[\u001b[0m\u001b[1;34m'effective_to_date'\u001b[0m\u001b[1;33m]\u001b[0m\u001b[1;33m)\u001b[0m\u001b[1;33m\u001b[0m\u001b[1;33m\u001b[0m\u001b[0m\n\u001b[0;32m      4\u001b[0m \u001b[1;33m\u001b[0m\u001b[0m\n\u001b[0;32m      5\u001b[0m \u001b[1;31m# Because we get an error because it is expecting a 2D array (DataFrame) and we have a 1D array:\u001b[0m\u001b[1;33m\u001b[0m\u001b[1;33m\u001b[0m\u001b[0m\n",
      "\u001b[1;32mD:\\Programes\\Anaconda3\\envs\\class\\lib\\site-packages\\sklearn\\preprocessing\\_data.py\u001b[0m in \u001b[0;36mfit\u001b[1;34m(self, X, y)\u001b[0m\n\u001b[0;32m    414\u001b[0m         \u001b[1;31m# Reset internal state before fitting\u001b[0m\u001b[1;33m\u001b[0m\u001b[1;33m\u001b[0m\u001b[0m\n\u001b[0;32m    415\u001b[0m         \u001b[0mself\u001b[0m\u001b[1;33m.\u001b[0m\u001b[0m_reset\u001b[0m\u001b[1;33m(\u001b[0m\u001b[1;33m)\u001b[0m\u001b[1;33m\u001b[0m\u001b[1;33m\u001b[0m\u001b[0m\n\u001b[1;32m--> 416\u001b[1;33m         \u001b[1;32mreturn\u001b[0m \u001b[0mself\u001b[0m\u001b[1;33m.\u001b[0m\u001b[0mpartial_fit\u001b[0m\u001b[1;33m(\u001b[0m\u001b[0mX\u001b[0m\u001b[1;33m,\u001b[0m \u001b[0my\u001b[0m\u001b[1;33m)\u001b[0m\u001b[1;33m\u001b[0m\u001b[1;33m\u001b[0m\u001b[0m\n\u001b[0m\u001b[0;32m    417\u001b[0m \u001b[1;33m\u001b[0m\u001b[0m\n\u001b[0;32m    418\u001b[0m     \u001b[1;32mdef\u001b[0m \u001b[0mpartial_fit\u001b[0m\u001b[1;33m(\u001b[0m\u001b[0mself\u001b[0m\u001b[1;33m,\u001b[0m \u001b[0mX\u001b[0m\u001b[1;33m,\u001b[0m \u001b[0my\u001b[0m\u001b[1;33m=\u001b[0m\u001b[1;32mNone\u001b[0m\u001b[1;33m)\u001b[0m\u001b[1;33m:\u001b[0m\u001b[1;33m\u001b[0m\u001b[1;33m\u001b[0m\u001b[0m\n",
      "\u001b[1;32mD:\\Programes\\Anaconda3\\envs\\class\\lib\\site-packages\\sklearn\\preprocessing\\_data.py\u001b[0m in \u001b[0;36mpartial_fit\u001b[1;34m(self, X, y)\u001b[0m\n\u001b[0;32m    451\u001b[0m \u001b[1;33m\u001b[0m\u001b[0m\n\u001b[0;32m    452\u001b[0m         \u001b[0mfirst_pass\u001b[0m \u001b[1;33m=\u001b[0m \u001b[1;32mnot\u001b[0m \u001b[0mhasattr\u001b[0m\u001b[1;33m(\u001b[0m\u001b[0mself\u001b[0m\u001b[1;33m,\u001b[0m \u001b[1;34m\"n_samples_seen_\"\u001b[0m\u001b[1;33m)\u001b[0m\u001b[1;33m\u001b[0m\u001b[1;33m\u001b[0m\u001b[0m\n\u001b[1;32m--> 453\u001b[1;33m         X = self._validate_data(\n\u001b[0m\u001b[0;32m    454\u001b[0m             \u001b[0mX\u001b[0m\u001b[1;33m,\u001b[0m\u001b[1;33m\u001b[0m\u001b[1;33m\u001b[0m\u001b[0m\n\u001b[0;32m    455\u001b[0m             \u001b[0mreset\u001b[0m\u001b[1;33m=\u001b[0m\u001b[0mfirst_pass\u001b[0m\u001b[1;33m,\u001b[0m\u001b[1;33m\u001b[0m\u001b[1;33m\u001b[0m\u001b[0m\n",
      "\u001b[1;32mD:\\Programes\\Anaconda3\\envs\\class\\lib\\site-packages\\sklearn\\base.py\u001b[0m in \u001b[0;36m_validate_data\u001b[1;34m(self, X, y, reset, validate_separately, **check_params)\u001b[0m\n\u001b[0;32m    564\u001b[0m             \u001b[1;32mraise\u001b[0m \u001b[0mValueError\u001b[0m\u001b[1;33m(\u001b[0m\u001b[1;34m\"Validation should be done on X, y or both.\"\u001b[0m\u001b[1;33m)\u001b[0m\u001b[1;33m\u001b[0m\u001b[1;33m\u001b[0m\u001b[0m\n\u001b[0;32m    565\u001b[0m         \u001b[1;32melif\u001b[0m \u001b[1;32mnot\u001b[0m \u001b[0mno_val_X\u001b[0m \u001b[1;32mand\u001b[0m \u001b[0mno_val_y\u001b[0m\u001b[1;33m:\u001b[0m\u001b[1;33m\u001b[0m\u001b[1;33m\u001b[0m\u001b[0m\n\u001b[1;32m--> 566\u001b[1;33m             \u001b[0mX\u001b[0m \u001b[1;33m=\u001b[0m \u001b[0mcheck_array\u001b[0m\u001b[1;33m(\u001b[0m\u001b[0mX\u001b[0m\u001b[1;33m,\u001b[0m \u001b[1;33m**\u001b[0m\u001b[0mcheck_params\u001b[0m\u001b[1;33m)\u001b[0m\u001b[1;33m\u001b[0m\u001b[1;33m\u001b[0m\u001b[0m\n\u001b[0m\u001b[0;32m    567\u001b[0m             \u001b[0mout\u001b[0m \u001b[1;33m=\u001b[0m \u001b[0mX\u001b[0m\u001b[1;33m\u001b[0m\u001b[1;33m\u001b[0m\u001b[0m\n\u001b[0;32m    568\u001b[0m         \u001b[1;32melif\u001b[0m \u001b[0mno_val_X\u001b[0m \u001b[1;32mand\u001b[0m \u001b[1;32mnot\u001b[0m \u001b[0mno_val_y\u001b[0m\u001b[1;33m:\u001b[0m\u001b[1;33m\u001b[0m\u001b[1;33m\u001b[0m\u001b[0m\n",
      "\u001b[1;32mD:\\Programes\\Anaconda3\\envs\\class\\lib\\site-packages\\sklearn\\utils\\validation.py\u001b[0m in \u001b[0;36mcheck_array\u001b[1;34m(array, accept_sparse, accept_large_sparse, dtype, order, copy, force_all_finite, ensure_2d, allow_nd, ensure_min_samples, ensure_min_features, estimator)\u001b[0m\n\u001b[0;32m    767\u001b[0m             \u001b[1;31m# If input is 1D raise error\u001b[0m\u001b[1;33m\u001b[0m\u001b[1;33m\u001b[0m\u001b[0m\n\u001b[0;32m    768\u001b[0m             \u001b[1;32mif\u001b[0m \u001b[0marray\u001b[0m\u001b[1;33m.\u001b[0m\u001b[0mndim\u001b[0m \u001b[1;33m==\u001b[0m \u001b[1;36m1\u001b[0m\u001b[1;33m:\u001b[0m\u001b[1;33m\u001b[0m\u001b[1;33m\u001b[0m\u001b[0m\n\u001b[1;32m--> 769\u001b[1;33m                 raise ValueError(\n\u001b[0m\u001b[0;32m    770\u001b[0m                     \u001b[1;34m\"Expected 2D array, got 1D array instead:\\narray={}.\\n\"\u001b[0m\u001b[1;33m\u001b[0m\u001b[1;33m\u001b[0m\u001b[0m\n\u001b[0;32m    771\u001b[0m                     \u001b[1;34m\"Reshape your data either using array.reshape(-1, 1) if \"\u001b[0m\u001b[1;33m\u001b[0m\u001b[1;33m\u001b[0m\u001b[0m\n",
      "\u001b[1;31mValueError\u001b[0m: Expected 2D array, got 1D array instead:\narray=[1.2979872e+18 1.2953088e+18 1.2972960e+18 ... 1.2969504e+18 1.2975552e+18\n 1.2944448e+18].\nReshape your data either using array.reshape(-1, 1) if your data has a single feature or array.reshape(1, -1) if it contains a single sample."
     ]
    }
   ],
   "source": [
    "scaler = MinMaxScaler()\n",
    "scaled = scaler.fit(test1['effective_to_date'])\n",
    "scaled_date = scaled.transform(test1['effective_to_date'])\n",
    "\n",
    "# Because we get an error that it is expecting a 2D array (DataFrame) and we have a 1D array:\n"
   ]
  },
  {
   "cell_type": "code",
   "execution_count": 95,
   "id": "d3058229",
   "metadata": {},
   "outputs": [],
   "source": [
    "# 2) Standard Scaler -> x_num"
   ]
  },
  {
   "cell_type": "code",
   "execution_count": 111,
   "id": "0fa76053",
   "metadata": {},
   "outputs": [
    {
     "data": {
      "text/plain": [
       "array([[-0.46610505,  0.34563485, -0.93481904, ...,  0.13987654,\n",
       "        -0.4066559 ,  2.50945468],\n",
       "       [-0.84094593, -1.23646244, -0.84771343, ..., -0.79070911,\n",
       "        -0.4066559 , -0.82492205],\n",
       "       [ 1.00652314, -0.50719362,  0.19755381, ..., -0.61175033,\n",
       "        -0.4066559 , -0.40812496],\n",
       "       ...,\n",
       "       [ 2.30582467,  0.07578661,  3.13010912, ...,  0.53358586,\n",
       "        -0.4066559 , -0.40812496],\n",
       "       [ 0.5742732 ,  0.87815031,  1.88159547, ..., -0.75491735,\n",
       "         4.08725734,  1.25906341],\n",
       "       [-0.16859268, -1.23646244,  0.22658901, ..., -1.685503  ,\n",
       "        -0.4066559 ,  0.00867213]])"
      ]
     },
     "execution_count": 111,
     "metadata": {},
     "output_type": "execute_result"
    }
   ],
   "source": [
    "object = StandardScaler()\n",
    "scale = object.fit_transform(X_num)\n",
    "scale"
   ]
  },
  {
   "cell_type": "code",
   "execution_count": 112,
   "id": "d419c83c",
   "metadata": {},
   "outputs": [
    {
     "data": {
      "text/plain": [
       "(10910, 7)"
      ]
     },
     "execution_count": 112,
     "metadata": {},
     "output_type": "execute_result"
    }
   ],
   "source": [
    "scale.shape"
   ]
  },
  {
   "cell_type": "code",
   "execution_count": null,
   "id": "da918613",
   "metadata": {},
   "outputs": [],
   "source": []
  }
 ],
 "metadata": {
  "kernelspec": {
   "display_name": "Python 3 (ipykernel)",
   "language": "python",
   "name": "python3"
  },
  "language_info": {
   "codemirror_mode": {
    "name": "ipython",
    "version": 3
   },
   "file_extension": ".py",
   "mimetype": "text/x-python",
   "name": "python",
   "nbconvert_exporter": "python",
   "pygments_lexer": "ipython3",
   "version": "3.9.7"
  },
  "toc": {
   "base_numbering": 1,
   "nav_menu": {},
   "number_sections": true,
   "sideBar": true,
   "skip_h1_title": false,
   "title_cell": "Table of Contents",
   "title_sidebar": "Contents",
   "toc_cell": false,
   "toc_position": {},
   "toc_section_display": true,
   "toc_window_display": false
  }
 },
 "nbformat": 4,
 "nbformat_minor": 5
}
