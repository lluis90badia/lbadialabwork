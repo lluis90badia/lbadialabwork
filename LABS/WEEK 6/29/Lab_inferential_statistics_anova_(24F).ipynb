{
 "cells": [
  {
   "cell_type": "markdown",
   "id": "56c34126",
   "metadata": {},
   "source": [
    "# Lab: Inferential statistics - ANOVA"
   ]
  },
  {
   "cell_type": "code",
   "execution_count": 49,
   "id": "1a1658b2",
   "metadata": {},
   "outputs": [],
   "source": [
    "import pandas as pd\n",
    "\n",
    "import statsmodels.api as sm\n",
    "from statsmodels.formula.api import ols"
   ]
  },
  {
   "cell_type": "markdown",
   "id": "f11fc671",
   "metadata": {},
   "source": [
    "## Part 1"
   ]
  },
  {
   "cell_type": "code",
   "execution_count": 50,
   "id": "005c2a46",
   "metadata": {},
   "outputs": [],
   "source": [
    "data = pd.read_excel('anova_lab_data.xlsx')"
   ]
  },
  {
   "cell_type": "code",
   "execution_count": 51,
   "id": "717ef9c7",
   "metadata": {},
   "outputs": [
    {
     "name": "stdout",
     "output_type": "stream",
     "text": [
      "<class 'pandas.core.frame.DataFrame'>\n",
      "RangeIndex: 15 entries, 0 to 14\n",
      "Data columns (total 2 columns):\n",
      " #   Column        Non-Null Count  Dtype  \n",
      "---  ------        --------------  -----  \n",
      " 0   Power         15 non-null     object \n",
      " 1   Etching Rate  15 non-null     float64\n",
      "dtypes: float64(1), object(1)\n",
      "memory usage: 368.0+ bytes\n"
     ]
    }
   ],
   "source": [
    "data.info()"
   ]
  },
  {
   "cell_type": "code",
   "execution_count": 54,
   "id": "596eafa1",
   "metadata": {},
   "outputs": [],
   "source": [
    "# because the column name 'Power' has a SPACE at the end and a space between\n",
    "# 'Etching Rate', we will standarisethe name:\n",
    "\n",
    "data.rename(columns = {'Power ': 'Power', 'Etching Rate': 'Etching_Rate'}, inplace = True)"
   ]
  },
  {
   "cell_type": "code",
   "execution_count": 55,
   "id": "477a8b50",
   "metadata": {
    "collapsed": true
   },
   "outputs": [
    {
     "data": {
      "text/html": [
       "<div>\n",
       "<style scoped>\n",
       "    .dataframe tbody tr th:only-of-type {\n",
       "        vertical-align: middle;\n",
       "    }\n",
       "\n",
       "    .dataframe tbody tr th {\n",
       "        vertical-align: top;\n",
       "    }\n",
       "\n",
       "    .dataframe thead th {\n",
       "        text-align: right;\n",
       "    }\n",
       "</style>\n",
       "<table border=\"1\" class=\"dataframe\">\n",
       "  <thead>\n",
       "    <tr style=\"text-align: right;\">\n",
       "      <th></th>\n",
       "      <th>Power</th>\n",
       "      <th>Etching_Rate</th>\n",
       "    </tr>\n",
       "  </thead>\n",
       "  <tbody>\n",
       "    <tr>\n",
       "      <th>0</th>\n",
       "      <td>160 W</td>\n",
       "      <td>5.43</td>\n",
       "    </tr>\n",
       "    <tr>\n",
       "      <th>1</th>\n",
       "      <td>180 W</td>\n",
       "      <td>6.24</td>\n",
       "    </tr>\n",
       "    <tr>\n",
       "      <th>2</th>\n",
       "      <td>200 W</td>\n",
       "      <td>8.79</td>\n",
       "    </tr>\n",
       "    <tr>\n",
       "      <th>3</th>\n",
       "      <td>160 W</td>\n",
       "      <td>5.71</td>\n",
       "    </tr>\n",
       "    <tr>\n",
       "      <th>4</th>\n",
       "      <td>180 W</td>\n",
       "      <td>6.71</td>\n",
       "    </tr>\n",
       "    <tr>\n",
       "      <th>5</th>\n",
       "      <td>200 W</td>\n",
       "      <td>9.20</td>\n",
       "    </tr>\n",
       "    <tr>\n",
       "      <th>6</th>\n",
       "      <td>160 W</td>\n",
       "      <td>6.22</td>\n",
       "    </tr>\n",
       "    <tr>\n",
       "      <th>7</th>\n",
       "      <td>180 W</td>\n",
       "      <td>5.98</td>\n",
       "    </tr>\n",
       "    <tr>\n",
       "      <th>8</th>\n",
       "      <td>200 W</td>\n",
       "      <td>7.90</td>\n",
       "    </tr>\n",
       "    <tr>\n",
       "      <th>9</th>\n",
       "      <td>160 W</td>\n",
       "      <td>6.01</td>\n",
       "    </tr>\n",
       "    <tr>\n",
       "      <th>10</th>\n",
       "      <td>180 W</td>\n",
       "      <td>5.66</td>\n",
       "    </tr>\n",
       "    <tr>\n",
       "      <th>11</th>\n",
       "      <td>200 W</td>\n",
       "      <td>8.15</td>\n",
       "    </tr>\n",
       "    <tr>\n",
       "      <th>12</th>\n",
       "      <td>160 W</td>\n",
       "      <td>5.59</td>\n",
       "    </tr>\n",
       "    <tr>\n",
       "      <th>13</th>\n",
       "      <td>180 W</td>\n",
       "      <td>6.60</td>\n",
       "    </tr>\n",
       "    <tr>\n",
       "      <th>14</th>\n",
       "      <td>200 W</td>\n",
       "      <td>7.55</td>\n",
       "    </tr>\n",
       "  </tbody>\n",
       "</table>\n",
       "</div>"
      ],
      "text/plain": [
       "    Power  Etching_Rate\n",
       "0   160 W          5.43\n",
       "1   180 W          6.24\n",
       "2   200 W          8.79\n",
       "3   160 W          5.71\n",
       "4   180 W          6.71\n",
       "5   200 W          9.20\n",
       "6   160 W          6.22\n",
       "7   180 W          5.98\n",
       "8   200 W          7.90\n",
       "9   160 W          6.01\n",
       "10  180 W          5.66\n",
       "11  200 W          8.15\n",
       "12  160 W          5.59\n",
       "13  180 W          6.60\n",
       "14  200 W          7.55"
      ]
     },
     "execution_count": 55,
     "metadata": {},
     "output_type": "execute_result"
    }
   ],
   "source": [
    "data"
   ]
  },
  {
   "cell_type": "markdown",
   "id": "e07caa13",
   "metadata": {},
   "source": [
    "### Null hypothesis:"
   ]
  },
  {
   "cell_type": "markdown",
   "id": "4d3ad2ff",
   "metadata": {},
   "source": [
    "If we are looking the NULL hypothesis, we would guess that increasing or not the power, there would be **NO** effect on the etching rate by the machine (there is no difference among group means)."
   ]
  },
  {
   "cell_type": "markdown",
   "id": "cde8713b",
   "metadata": {},
   "source": [
    "### Alternate hypothesis:"
   ]
  },
  {
   "cell_type": "markdown",
   "id": "8f5b1e57",
   "metadata": {},
   "source": [
    "In contrast of the null hypothesis, the ALTERNATIVE guesses would be there **IS** effect on the etching rate by the machine."
   ]
  },
  {
   "cell_type": "markdown",
   "id": "ec1f9468",
   "metadata": {},
   "source": [
    "### Significance level:"
   ]
  },
  {
   "cell_type": "markdown",
   "id": "6dead4a7",
   "metadata": {},
   "source": [
    "It would depend if any group differs significantly from the overall group mean."
   ]
  },
  {
   "cell_type": "markdown",
   "id": "bdd275a7",
   "metadata": {},
   "source": [
    "*It is calculated using the **F** statistic. If the F statistic is higher than the critical value (usually 0.05), then the difference among groups is statistically significant.* "
   ]
  },
  {
   "cell_type": "markdown",
   "id": "035ee769",
   "metadata": {},
   "source": [
    "### Degrees of freedom of model, error terms and total DoF:"
   ]
  },
  {
   "cell_type": "markdown",
   "id": "70cad06a",
   "metadata": {},
   "source": [
    "Degrees of freedom of an estimate is the number of independent pieces of information that went into calculating the estimate. It is always substracted one element of the sample. \n",
    "\n",
    "In this case (checking the excel file), there were 2 degrees in 'Power' and 12 degrees of variability within the groups (error). About the total of DoF, is the sum between the degrees of freedom (2) and those from error (12) = 14 in total."
   ]
  },
  {
   "cell_type": "markdown",
   "id": "e1987411",
   "metadata": {},
   "source": [
    "## Part 2"
   ]
  },
  {
   "cell_type": "code",
   "execution_count": 56,
   "id": "51bb9eff",
   "metadata": {},
   "outputs": [],
   "source": [
    "from scipy.stats import ttest_1samp"
   ]
  },
  {
   "cell_type": "code",
   "execution_count": 57,
   "id": "824efdff",
   "metadata": {},
   "outputs": [],
   "source": [
    "for x in data['Power']:\n",
    "    num = x[:3]\n",
    "    data['Power'] = data['Power'].replace(x, num)"
   ]
  },
  {
   "cell_type": "code",
   "execution_count": 58,
   "id": "f4eea47d",
   "metadata": {},
   "outputs": [],
   "source": [
    "data['Power'] = data['Power'].astype(int)"
   ]
  },
  {
   "cell_type": "code",
   "execution_count": 59,
   "id": "0addac52",
   "metadata": {
    "collapsed": true
   },
   "outputs": [
    {
     "data": {
      "text/plain": [
       "0     160\n",
       "1     180\n",
       "2     200\n",
       "3     160\n",
       "4     180\n",
       "5     200\n",
       "6     160\n",
       "7     180\n",
       "8     200\n",
       "9     160\n",
       "10    180\n",
       "11    200\n",
       "12    160\n",
       "13    180\n",
       "14    200\n",
       "Name: Power, dtype: int32"
      ]
     },
     "execution_count": 59,
     "metadata": {},
     "output_type": "execute_result"
    }
   ],
   "source": [
    "data['Power']"
   ]
  },
  {
   "cell_type": "code",
   "execution_count": 60,
   "id": "eef841d9",
   "metadata": {},
   "outputs": [
    {
     "name": "stdout",
     "output_type": "stream",
     "text": [
      "<class 'pandas.core.frame.DataFrame'>\n",
      "RangeIndex: 15 entries, 0 to 14\n",
      "Data columns (total 2 columns):\n",
      " #   Column        Non-Null Count  Dtype  \n",
      "---  ------        --------------  -----  \n",
      " 0   Power         15 non-null     int32  \n",
      " 1   Etching_Rate  15 non-null     float64\n",
      "dtypes: float64(1), int32(1)\n",
      "memory usage: 308.0 bytes\n"
     ]
    }
   ],
   "source": [
    "data.info()"
   ]
  },
  {
   "cell_type": "code",
   "execution_count": 65,
   "id": "0e8b08e6",
   "metadata": {},
   "outputs": [],
   "source": [
    "model = ols('Etching_Rate ~ C(Power)', data = data). fit()"
   ]
  },
  {
   "cell_type": "code",
   "execution_count": 66,
   "id": "71aa5f76",
   "metadata": {},
   "outputs": [],
   "source": [
    "results_table = sm.stats.anova_lm(model)"
   ]
  },
  {
   "cell_type": "code",
   "execution_count": 67,
   "id": "15faf03c",
   "metadata": {},
   "outputs": [
    {
     "data": {
      "text/html": [
       "<div>\n",
       "<style scoped>\n",
       "    .dataframe tbody tr th:only-of-type {\n",
       "        vertical-align: middle;\n",
       "    }\n",
       "\n",
       "    .dataframe tbody tr th {\n",
       "        vertical-align: top;\n",
       "    }\n",
       "\n",
       "    .dataframe thead th {\n",
       "        text-align: right;\n",
       "    }\n",
       "</style>\n",
       "<table border=\"1\" class=\"dataframe\">\n",
       "  <thead>\n",
       "    <tr style=\"text-align: right;\">\n",
       "      <th></th>\n",
       "      <th>df</th>\n",
       "      <th>sum_sq</th>\n",
       "      <th>mean_sq</th>\n",
       "      <th>F</th>\n",
       "      <th>PR(&gt;F)</th>\n",
       "    </tr>\n",
       "  </thead>\n",
       "  <tbody>\n",
       "    <tr>\n",
       "      <th>C(Power)</th>\n",
       "      <td>2.0</td>\n",
       "      <td>18.176653</td>\n",
       "      <td>9.088327</td>\n",
       "      <td>36.878955</td>\n",
       "      <td>0.000008</td>\n",
       "    </tr>\n",
       "    <tr>\n",
       "      <th>Residual</th>\n",
       "      <td>12.0</td>\n",
       "      <td>2.957240</td>\n",
       "      <td>0.246437</td>\n",
       "      <td>NaN</td>\n",
       "      <td>NaN</td>\n",
       "    </tr>\n",
       "  </tbody>\n",
       "</table>\n",
       "</div>"
      ],
      "text/plain": [
       "            df     sum_sq   mean_sq          F    PR(>F)\n",
       "C(Power)   2.0  18.176653  9.088327  36.878955  0.000008\n",
       "Residual  12.0   2.957240  0.246437        NaN       NaN"
      ]
     },
     "execution_count": 67,
     "metadata": {},
     "output_type": "execute_result"
    }
   ],
   "source": [
    "results_table"
   ]
  },
  {
   "cell_type": "markdown",
   "id": "b33b4b78",
   "metadata": {},
   "source": [
    "The p-value we got means that is significant because is less than 0.05. Therefore, there are significant differences among the groups."
   ]
  }
 ],
 "metadata": {
  "kernelspec": {
   "display_name": "Python 3 (ipykernel)",
   "language": "python",
   "name": "python3"
  },
  "language_info": {
   "codemirror_mode": {
    "name": "ipython",
    "version": 3
   },
   "file_extension": ".py",
   "mimetype": "text/x-python",
   "name": "python",
   "nbconvert_exporter": "python",
   "pygments_lexer": "ipython3",
   "version": "3.9.7"
  },
  "toc": {
   "base_numbering": 1,
   "nav_menu": {},
   "number_sections": true,
   "sideBar": true,
   "skip_h1_title": false,
   "title_cell": "Table of Contents",
   "title_sidebar": "Contents",
   "toc_cell": false,
   "toc_position": {},
   "toc_section_display": true,
   "toc_window_display": false
  },
  "varInspector": {
   "cols": {
    "lenName": 16,
    "lenType": 16,
    "lenVar": 40
   },
   "kernels_config": {
    "python": {
     "delete_cmd_postfix": "",
     "delete_cmd_prefix": "del ",
     "library": "var_list.py",
     "varRefreshCmd": "print(var_dic_list())"
    },
    "r": {
     "delete_cmd_postfix": ") ",
     "delete_cmd_prefix": "rm(",
     "library": "var_list.r",
     "varRefreshCmd": "cat(var_dic_list()) "
    }
   },
   "types_to_exclude": [
    "module",
    "function",
    "builtin_function_or_method",
    "instance",
    "_Feature"
   ],
   "window_display": false
  }
 },
 "nbformat": 4,
 "nbformat_minor": 5
}
