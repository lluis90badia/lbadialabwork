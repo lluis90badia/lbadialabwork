{
 "cells": [
  {
   "cell_type": "code",
   "execution_count": 1,
   "id": "7fceae05",
   "metadata": {},
   "outputs": [],
   "source": [
    "import numpy as np\n",
    "import pandas as pd\n",
    "import seaborn as sns\n",
    "import matplotlib.pyplot as plt\n",
    "%matplotlib inline\n",
    "from sklearn.model_selection import train_test_split\n",
    "from sklearn.linear_model import LogisticRegression\n",
    "from sklearn.metrics import accuracy_score\n",
    "from sklearn.metrics import confusion_matrix, ConfusionMatrixDisplay"
   ]
  },
  {
   "cell_type": "markdown",
   "id": "0def86bc",
   "metadata": {},
   "source": [
    "# Import the dataset iris_dirty.csv from this repo into a Pandas dataframe. Check the Pandas documentation of read_csv() and use the column names sepal_length, sepal_width, petal_length, petal_width and class when you read in the data."
   ]
  },
  {
   "cell_type": "code",
   "execution_count": 2,
   "id": "830d4517",
   "metadata": {},
   "outputs": [],
   "source": [
    "data = pd.read_csv('iris_dirty.csv', names = ['sepal_length', 'sepal_width', 'petal_length', 'petal_width', 'class'])"
   ]
  },
  {
   "cell_type": "code",
   "execution_count": 3,
   "id": "7022a801",
   "metadata": {
    "scrolled": true
   },
   "outputs": [
    {
     "name": "stdout",
     "output_type": "stream",
     "text": [
      "<class 'pandas.core.frame.DataFrame'>\n",
      "RangeIndex: 151 entries, 0 to 150\n",
      "Data columns (total 5 columns):\n",
      " #   Column        Non-Null Count  Dtype  \n",
      "---  ------        --------------  -----  \n",
      " 0   sepal_length  151 non-null    float64\n",
      " 1   sepal_width   150 non-null    float64\n",
      " 2   petal_length  151 non-null    float64\n",
      " 3   petal_width   151 non-null    object \n",
      " 4   class         151 non-null    object \n",
      "dtypes: float64(3), object(2)\n",
      "memory usage: 6.0+ KB\n"
     ]
    }
   ],
   "source": [
    "data.info()"
   ]
  },
  {
   "cell_type": "markdown",
   "id": "99174139",
   "metadata": {},
   "source": [
    "# Explore the data with the known Pandas functions head(), info(), describe(), count(), value_counts() (for all columns). Watch for missing values, duplicates, spelling errors, non-uniform units, columns with datatypes they shouldn't have etc."
   ]
  },
  {
   "cell_type": "code",
   "execution_count": 4,
   "id": "7db680fe",
   "metadata": {},
   "outputs": [
    {
     "data": {
      "text/html": [
       "<div>\n",
       "<style scoped>\n",
       "    .dataframe tbody tr th:only-of-type {\n",
       "        vertical-align: middle;\n",
       "    }\n",
       "\n",
       "    .dataframe tbody tr th {\n",
       "        vertical-align: top;\n",
       "    }\n",
       "\n",
       "    .dataframe thead th {\n",
       "        text-align: right;\n",
       "    }\n",
       "</style>\n",
       "<table border=\"1\" class=\"dataframe\">\n",
       "  <thead>\n",
       "    <tr style=\"text-align: right;\">\n",
       "      <th></th>\n",
       "      <th>sepal_length</th>\n",
       "      <th>sepal_width</th>\n",
       "      <th>petal_length</th>\n",
       "      <th>petal_width</th>\n",
       "      <th>class</th>\n",
       "    </tr>\n",
       "  </thead>\n",
       "  <tbody>\n",
       "    <tr>\n",
       "      <th>0</th>\n",
       "      <td>5.1</td>\n",
       "      <td>3.5</td>\n",
       "      <td>1.4</td>\n",
       "      <td>2 mm</td>\n",
       "      <td>Iris-setosa</td>\n",
       "    </tr>\n",
       "    <tr>\n",
       "      <th>1</th>\n",
       "      <td>4.9</td>\n",
       "      <td>3.0</td>\n",
       "      <td>1.4</td>\n",
       "      <td>2 mm</td>\n",
       "      <td>Iris-setosa</td>\n",
       "    </tr>\n",
       "    <tr>\n",
       "      <th>2</th>\n",
       "      <td>4.7</td>\n",
       "      <td>3.2</td>\n",
       "      <td>1.3</td>\n",
       "      <td>2 mm</td>\n",
       "      <td>Iris-setosa</td>\n",
       "    </tr>\n",
       "    <tr>\n",
       "      <th>3</th>\n",
       "      <td>4.6</td>\n",
       "      <td>3.1</td>\n",
       "      <td>1.5</td>\n",
       "      <td>2 mm</td>\n",
       "      <td>Iris-setosa</td>\n",
       "    </tr>\n",
       "    <tr>\n",
       "      <th>4</th>\n",
       "      <td>5.0</td>\n",
       "      <td>3.6</td>\n",
       "      <td>1.4</td>\n",
       "      <td>2 mm</td>\n",
       "      <td>Iris-setosa</td>\n",
       "    </tr>\n",
       "  </tbody>\n",
       "</table>\n",
       "</div>"
      ],
      "text/plain": [
       "   sepal_length  sepal_width  petal_length petal_width        class\n",
       "0           5.1          3.5           1.4        2 mm  Iris-setosa\n",
       "1           4.9          3.0           1.4        2 mm  Iris-setosa\n",
       "2           4.7          3.2           1.3        2 mm  Iris-setosa\n",
       "3           4.6          3.1           1.5        2 mm  Iris-setosa\n",
       "4           5.0          3.6           1.4        2 mm  Iris-setosa"
      ]
     },
     "execution_count": 4,
     "metadata": {},
     "output_type": "execute_result"
    }
   ],
   "source": [
    "data.head()"
   ]
  },
  {
   "cell_type": "code",
   "execution_count": 5,
   "id": "a8bdbafe",
   "metadata": {},
   "outputs": [
    {
     "name": "stdout",
     "output_type": "stream",
     "text": [
      "<class 'pandas.core.frame.DataFrame'>\n",
      "RangeIndex: 151 entries, 0 to 150\n",
      "Data columns (total 5 columns):\n",
      " #   Column        Non-Null Count  Dtype  \n",
      "---  ------        --------------  -----  \n",
      " 0   sepal_length  151 non-null    float64\n",
      " 1   sepal_width   150 non-null    float64\n",
      " 2   petal_length  151 non-null    float64\n",
      " 3   petal_width   151 non-null    object \n",
      " 4   class         151 non-null    object \n",
      "dtypes: float64(3), object(2)\n",
      "memory usage: 6.0+ KB\n"
     ]
    }
   ],
   "source": [
    "data.info()  # 'petal_width' must be numerical type (only selecting the value)"
   ]
  },
  {
   "cell_type": "code",
   "execution_count": 6,
   "id": "fedbf0c2",
   "metadata": {
    "scrolled": true
   },
   "outputs": [
    {
     "data": {
      "text/plain": [
       "sepal_length    151\n",
       "sepal_width     150\n",
       "petal_length    151\n",
       "petal_width     151\n",
       "class           151\n",
       "dtype: int64"
      ]
     },
     "execution_count": 6,
     "metadata": {},
     "output_type": "execute_result"
    }
   ],
   "source": [
    "data.count()    # one missing value in 'sepal_width'"
   ]
  },
  {
   "cell_type": "code",
   "execution_count": 7,
   "id": "2a454211",
   "metadata": {},
   "outputs": [
    {
     "data": {
      "text/plain": [
       "5.0     10\n",
       "5.1      9\n",
       "6.3      9\n",
       "6.7      8\n",
       "5.7      8\n",
       "6.4      7\n",
       "5.5      7\n",
       "5.6      6\n",
       "5.4      6\n",
       "6.1      6\n",
       "6.0      6\n",
       "5.8      6\n",
       "4.9      6\n",
       "6.5      5\n",
       "4.8      5\n",
       "6.9      4\n",
       "5.2      4\n",
       "4.6      4\n",
       "6.2      4\n",
       "7.7      4\n",
       "5.9      3\n",
       "4.4      3\n",
       "6.8      3\n",
       "7.2      3\n",
       "4.7      2\n",
       "6.6      2\n",
       "7.0      2\n",
       "7.3      1\n",
       "7.9      1\n",
       "7.4      1\n",
       "5.3      1\n",
       "7.6      1\n",
       "7.1      1\n",
       "4.3      1\n",
       "4.5      1\n",
       "58.0     1\n",
       "Name: sepal_length, dtype: int64"
      ]
     },
     "execution_count": 7,
     "metadata": {},
     "output_type": "execute_result"
    }
   ],
   "source": [
    "data['sepal_length'].value_counts()"
   ]
  },
  {
   "cell_type": "code",
   "execution_count": 8,
   "id": "3385392d",
   "metadata": {},
   "outputs": [
    {
     "data": {
      "text/plain": [
       "3.0    26\n",
       "3.2    14\n",
       "2.8    14\n",
       "3.1    12\n",
       "3.4    12\n",
       "2.9    10\n",
       "2.5     8\n",
       "2.7     8\n",
       "3.5     6\n",
       "3.3     6\n",
       "3.8     6\n",
       "2.6     5\n",
       "2.3     4\n",
       "3.7     3\n",
       "2.4     3\n",
       "2.2     3\n",
       "3.6     3\n",
       "3.9     2\n",
       "4.4     1\n",
       "4.0     1\n",
       "4.1     1\n",
       "4.2     1\n",
       "2.0     1\n",
       "Name: sepal_width, dtype: int64"
      ]
     },
     "execution_count": 8,
     "metadata": {},
     "output_type": "execute_result"
    }
   ],
   "source": [
    "data['sepal_width'].value_counts()    # one missing value in 'sepal_width'"
   ]
  },
  {
   "cell_type": "code",
   "execution_count": 9,
   "id": "f3a03169",
   "metadata": {},
   "outputs": [
    {
     "data": {
      "text/plain": [
       "1.5    14\n",
       "1.4    12\n",
       "5.1     8\n",
       "4.5     8\n",
       "1.6     7\n",
       "1.3     7\n",
       "5.6     6\n",
       "4.7     6\n",
       "4.9     5\n",
       "4.0     5\n",
       "4.2     4\n",
       "5.0     4\n",
       "4.4     4\n",
       "4.8     4\n",
       "1.7     4\n",
       "3.9     3\n",
       "4.6     3\n",
       "5.7     3\n",
       "4.1     3\n",
       "5.5     3\n",
       "6.1     3\n",
       "5.8     3\n",
       "3.3     2\n",
       "5.4     2\n",
       "6.7     2\n",
       "5.3     2\n",
       "5.9     2\n",
       "6.0     2\n",
       "1.2     2\n",
       "4.3     2\n",
       "1.9     2\n",
       "3.5     2\n",
       "5.2     2\n",
       "3.0     1\n",
       "1.1     1\n",
       "3.7     1\n",
       "3.8     1\n",
       "6.6     1\n",
       "6.3     1\n",
       "1.0     1\n",
       "6.9     1\n",
       "3.6     1\n",
       "6.4     1\n",
       "Name: petal_length, dtype: int64"
      ]
     },
     "execution_count": 9,
     "metadata": {},
     "output_type": "execute_result"
    }
   ],
   "source": [
    "data['petal_length'].value_counts()"
   ]
  },
  {
   "cell_type": "code",
   "execution_count": 10,
   "id": "52b2403f",
   "metadata": {},
   "outputs": [
    {
     "data": {
      "text/plain": [
       "2 mm     28\n",
       "13 mm    13\n",
       "18 mm    12\n",
       "15 mm    12\n",
       "14 mm     9\n",
       "23 mm     8\n",
       "10 mm     7\n",
       "4 mm      7\n",
       "3 mm      7\n",
       "1 mm      6\n",
       "21 mm     6\n",
       "20 mm     6\n",
       "12 mm     5\n",
       "19 mm     5\n",
       "16 mm     4\n",
       "25 mm     3\n",
       "22 mm     3\n",
       "24 mm     3\n",
       "11 mm     3\n",
       "17 mm     2\n",
       "6 mm      1\n",
       "5 mm      1\n",
       "Name: petal_width, dtype: int64"
      ]
     },
     "execution_count": 10,
     "metadata": {},
     "output_type": "execute_result"
    }
   ],
   "source": [
    "data['petal_width'].value_counts()"
   ]
  },
  {
   "cell_type": "code",
   "execution_count": 11,
   "id": "e04da4a6",
   "metadata": {},
   "outputs": [
    {
     "data": {
      "text/plain": [
       "Iris-versicolor    51\n",
       "Iris-virginica     50\n",
       "Iris-setosa        49\n",
       "Iris-setsoa         1\n",
       "Name: class, dtype: int64"
      ]
     },
     "execution_count": 11,
     "metadata": {},
     "output_type": "execute_result"
    }
   ],
   "source": [
    "data['class'].value_counts()   # 'Iris-setsoa' must be changed to 'Iris-setosa'"
   ]
  },
  {
   "cell_type": "markdown",
   "id": "c21e3e35",
   "metadata": {},
   "source": [
    "# Substitute missing values with the column mean. Check/remove duplicates. Correct possible spelling errors."
   ]
  },
  {
   "cell_type": "code",
   "execution_count": 12,
   "id": "9cae82a6",
   "metadata": {},
   "outputs": [],
   "source": [
    "# one missing value in 'sepal_width'\n",
    "\n",
    "mean_sw = data['sepal_width'].mean()\n",
    "data['sepal_width'] = data['sepal_width'].fillna(mean_sw)"
   ]
  },
  {
   "cell_type": "code",
   "execution_count": 13,
   "id": "9dcf3686",
   "metadata": {},
   "outputs": [
    {
     "name": "stdout",
     "output_type": "stream",
     "text": [
      "<class 'pandas.core.frame.DataFrame'>\n",
      "RangeIndex: 151 entries, 0 to 150\n",
      "Data columns (total 5 columns):\n",
      " #   Column        Non-Null Count  Dtype  \n",
      "---  ------        --------------  -----  \n",
      " 0   sepal_length  151 non-null    float64\n",
      " 1   sepal_width   151 non-null    float64\n",
      " 2   petal_length  151 non-null    float64\n",
      " 3   petal_width   151 non-null    object \n",
      " 4   class         151 non-null    object \n",
      "dtypes: float64(3), object(2)\n",
      "memory usage: 6.0+ KB\n"
     ]
    }
   ],
   "source": [
    "data.info()"
   ]
  },
  {
   "cell_type": "code",
   "execution_count": 14,
   "id": "d3ec9a64",
   "metadata": {},
   "outputs": [],
   "source": [
    "data = data.drop_duplicates()"
   ]
  },
  {
   "cell_type": "code",
   "execution_count": 15,
   "id": "c7a7105a",
   "metadata": {
    "scrolled": true
   },
   "outputs": [
    {
     "name": "stdout",
     "output_type": "stream",
     "text": [
      "<class 'pandas.core.frame.DataFrame'>\n",
      "Int64Index: 148 entries, 0 to 150\n",
      "Data columns (total 5 columns):\n",
      " #   Column        Non-Null Count  Dtype  \n",
      "---  ------        --------------  -----  \n",
      " 0   sepal_length  148 non-null    float64\n",
      " 1   sepal_width   148 non-null    float64\n",
      " 2   petal_length  148 non-null    float64\n",
      " 3   petal_width   148 non-null    object \n",
      " 4   class         148 non-null    object \n",
      "dtypes: float64(3), object(2)\n",
      "memory usage: 6.9+ KB\n"
     ]
    }
   ],
   "source": [
    "data.info()"
   ]
  },
  {
   "cell_type": "code",
   "execution_count": 16,
   "id": "81789b59",
   "metadata": {},
   "outputs": [],
   "source": [
    "for x in data['class']:\n",
    "    if x == 'Iris-setsoa':\n",
    "        data.replace(x, 'Iris-setosa', inplace = True)\n",
    "    else:\n",
    "        pass"
   ]
  },
  {
   "cell_type": "code",
   "execution_count": 17,
   "id": "5bafe75b",
   "metadata": {},
   "outputs": [
    {
     "data": {
      "text/plain": [
       "Iris-versicolor    50\n",
       "Iris-virginica     50\n",
       "Iris-setosa        48\n",
       "Name: class, dtype: int64"
      ]
     },
     "execution_count": 17,
     "metadata": {},
     "output_type": "execute_result"
    }
   ],
   "source": [
    "data['class'].value_counts()"
   ]
  },
  {
   "cell_type": "markdown",
   "id": "1e9f9942",
   "metadata": {},
   "source": [
    "# Bring all columns to centimeter length. Before, transform any column to numeric if necessary."
   ]
  },
  {
   "cell_type": "code",
   "execution_count": 18,
   "id": "9def3d4e",
   "metadata": {},
   "outputs": [],
   "source": [
    "# 'petal_width' must be numerical type (only selecting the value).\n",
    "# But before that, we will extract the value, replace and remove the rest:\n",
    "\n",
    "for x in data['petal_width']:\n",
    "    value = x[:2]\n",
    "    data['petal_width'] = data['petal_width'].replace(x, value)\n",
    "    \n",
    "\n",
    "data['petal_width'] = pd.to_numeric(data['petal_width'],errors = 'coerce')"
   ]
  },
  {
   "cell_type": "code",
   "execution_count": 19,
   "id": "09317f12",
   "metadata": {},
   "outputs": [
    {
     "data": {
      "text/plain": [
       "<bound method Series.unique of 0       2\n",
       "1       2\n",
       "2       2\n",
       "3       2\n",
       "4       2\n",
       "       ..\n",
       "146    23\n",
       "147    19\n",
       "148    20\n",
       "149    23\n",
       "150    18\n",
       "Name: petal_width, Length: 148, dtype: int64>"
      ]
     },
     "execution_count": 19,
     "metadata": {},
     "output_type": "execute_result"
    }
   ],
   "source": [
    "data['petal_width'].unique   # values in mm"
   ]
  },
  {
   "cell_type": "code",
   "execution_count": 20,
   "id": "c79171de",
   "metadata": {},
   "outputs": [],
   "source": [
    "for x in data['petal_width']:\n",
    "    decimal = x / 10\n",
    "    data['petal_width'] = data['petal_width'].replace(x, decimal)"
   ]
  },
  {
   "cell_type": "code",
   "execution_count": 21,
   "id": "2ef72445",
   "metadata": {},
   "outputs": [
    {
     "data": {
      "text/plain": [
       "<bound method Series.unique of 0      0.2\n",
       "1      0.2\n",
       "2      0.2\n",
       "3      0.2\n",
       "4      0.2\n",
       "      ... \n",
       "146    2.3\n",
       "147    1.9\n",
       "148    2.0\n",
       "149    2.3\n",
       "150    1.8\n",
       "Name: petal_width, Length: 148, dtype: float64>"
      ]
     },
     "execution_count": 21,
     "metadata": {},
     "output_type": "execute_result"
    }
   ],
   "source": [
    "data['petal_width'].unique   # values in cm"
   ]
  },
  {
   "cell_type": "markdown",
   "id": "8197ed1a",
   "metadata": {},
   "source": [
    "# Check for outliers with .describe() or means of plotting. Think about the appropriate way to correct for possible outliers and perform that correction."
   ]
  },
  {
   "cell_type": "code",
   "execution_count": 22,
   "id": "0a21ae8b",
   "metadata": {},
   "outputs": [
    {
     "data": {
      "text/html": [
       "<div>\n",
       "<style scoped>\n",
       "    .dataframe tbody tr th:only-of-type {\n",
       "        vertical-align: middle;\n",
       "    }\n",
       "\n",
       "    .dataframe tbody tr th {\n",
       "        vertical-align: top;\n",
       "    }\n",
       "\n",
       "    .dataframe thead th {\n",
       "        text-align: right;\n",
       "    }\n",
       "</style>\n",
       "<table border=\"1\" class=\"dataframe\">\n",
       "  <thead>\n",
       "    <tr style=\"text-align: right;\">\n",
       "      <th></th>\n",
       "      <th>sepal_length</th>\n",
       "      <th>sepal_width</th>\n",
       "      <th>petal_length</th>\n",
       "      <th>petal_width</th>\n",
       "    </tr>\n",
       "  </thead>\n",
       "  <tbody>\n",
       "    <tr>\n",
       "      <th>count</th>\n",
       "      <td>148.000000</td>\n",
       "      <td>148.000000</td>\n",
       "      <td>148.000000</td>\n",
       "      <td>148.000000</td>\n",
       "    </tr>\n",
       "    <tr>\n",
       "      <th>mean</th>\n",
       "      <td>6.208784</td>\n",
       "      <td>3.055793</td>\n",
       "      <td>3.789189</td>\n",
       "      <td>1.213514</td>\n",
       "    </tr>\n",
       "    <tr>\n",
       "      <th>std</th>\n",
       "      <td>4.365089</td>\n",
       "      <td>0.435520</td>\n",
       "      <td>1.756470</td>\n",
       "      <td>0.757426</td>\n",
       "    </tr>\n",
       "    <tr>\n",
       "      <th>min</th>\n",
       "      <td>4.300000</td>\n",
       "      <td>2.000000</td>\n",
       "      <td>1.000000</td>\n",
       "      <td>0.100000</td>\n",
       "    </tr>\n",
       "    <tr>\n",
       "      <th>25%</th>\n",
       "      <td>5.100000</td>\n",
       "      <td>2.800000</td>\n",
       "      <td>1.600000</td>\n",
       "      <td>0.300000</td>\n",
       "    </tr>\n",
       "    <tr>\n",
       "      <th>50%</th>\n",
       "      <td>5.800000</td>\n",
       "      <td>3.000000</td>\n",
       "      <td>4.400000</td>\n",
       "      <td>1.300000</td>\n",
       "    </tr>\n",
       "    <tr>\n",
       "      <th>75%</th>\n",
       "      <td>6.400000</td>\n",
       "      <td>3.300000</td>\n",
       "      <td>5.100000</td>\n",
       "      <td>1.800000</td>\n",
       "    </tr>\n",
       "    <tr>\n",
       "      <th>max</th>\n",
       "      <td>58.000000</td>\n",
       "      <td>4.400000</td>\n",
       "      <td>6.900000</td>\n",
       "      <td>2.500000</td>\n",
       "    </tr>\n",
       "  </tbody>\n",
       "</table>\n",
       "</div>"
      ],
      "text/plain": [
       "       sepal_length  sepal_width  petal_length  petal_width\n",
       "count    148.000000   148.000000    148.000000   148.000000\n",
       "mean       6.208784     3.055793      3.789189     1.213514\n",
       "std        4.365089     0.435520      1.756470     0.757426\n",
       "min        4.300000     2.000000      1.000000     0.100000\n",
       "25%        5.100000     2.800000      1.600000     0.300000\n",
       "50%        5.800000     3.000000      4.400000     1.300000\n",
       "75%        6.400000     3.300000      5.100000     1.800000\n",
       "max       58.000000     4.400000      6.900000     2.500000"
      ]
     },
     "execution_count": 22,
     "metadata": {},
     "output_type": "execute_result"
    }
   ],
   "source": [
    "data.describe()"
   ]
  },
  {
   "cell_type": "markdown",
   "id": "a3d83ae7",
   "metadata": {},
   "source": [
    "Looking at the above table, there is/are outlier/s in the **'sepal_length'** column."
   ]
  },
  {
   "cell_type": "code",
   "execution_count": 23,
   "id": "d36766e1",
   "metadata": {},
   "outputs": [
    {
     "name": "stderr",
     "output_type": "stream",
     "text": [
      "D:\\Programes\\Anaconda3\\envs\\class\\lib\\site-packages\\seaborn\\_decorators.py:36: FutureWarning: Pass the following variable as a keyword arg: x. From version 0.12, the only valid positional argument will be `data`, and passing other arguments without an explicit keyword will result in an error or misinterpretation.\n",
      "  warnings.warn(\n"
     ]
    },
    {
     "data": {
      "text/plain": [
       "<AxesSubplot:xlabel='sepal_length'>"
      ]
     },
     "execution_count": 23,
     "metadata": {},
     "output_type": "execute_result"
    },
    {
     "data": {
      "image/png": "[encoded data removed]",
      "text/plain": [
       "<Figure size 432x288 with 1 Axes>"
      ]
     },
     "metadata": {
      "needs_background": "light"
     },
     "output_type": "display_data"
    }
   ],
   "source": [
    "sns.boxplot(data['sepal_length'])"
   ]
  },
  {
   "cell_type": "markdown",
   "id": "0c9c2444",
   "metadata": {},
   "source": [
    "Giving the data visualisation of this column, it seems that the outlier must've been introduced with a **typo** (should be 5.8 instead of 58) because the rest of the values are between 4 and 6."
   ]
  },
  {
   "cell_type": "code",
   "execution_count": 24,
   "id": "e135b37e",
   "metadata": {},
   "outputs": [],
   "source": [
    "for x in data['sepal_length']:\n",
    "    if x > 6:\n",
    "        result = x / 10\n",
    "        data['sepal_length'] = data['sepal_length'].replace(x, result)"
   ]
  },
  {
   "cell_type": "code",
   "execution_count": 25,
   "id": "baa7be31",
   "metadata": {},
   "outputs": [
    {
     "name": "stderr",
     "output_type": "stream",
     "text": [
      "D:\\Programes\\Anaconda3\\envs\\class\\lib\\site-packages\\seaborn\\_decorators.py:36: FutureWarning: Pass the following variable as a keyword arg: x. From version 0.12, the only valid positional argument will be `data`, and passing other arguments without an explicit keyword will result in an error or misinterpretation.\n",
      "  warnings.warn(\n"
     ]
    },
    {
     "data": {
      "text/plain": [
       "<AxesSubplot:xlabel='sepal_length'>"
      ]
     },
     "execution_count": 25,
     "metadata": {},
     "output_type": "execute_result"
    },
    {
     "data": {
      "image/png": "[encoded data removed]",
      "text/plain": [
       "<Figure size 432x288 with 1 Axes>"
      ]
     },
     "metadata": {
      "needs_background": "light"
     },
     "output_type": "display_data"
    }
   ],
   "source": [
    "sns.boxplot(data['sepal_length'])"
   ]
  },
  {
   "cell_type": "markdown",
   "id": "5e949d36",
   "metadata": {},
   "source": [
    "# Plot a correlation matrix with a heatmap between the numeric features."
   ]
  },
  {
   "cell_type": "code",
   "execution_count": 26,
   "id": "4f2b3aaa",
   "metadata": {},
   "outputs": [
    {
     "data": {
      "text/html": [
       "<div>\n",
       "<style scoped>\n",
       "    .dataframe tbody tr th:only-of-type {\n",
       "        vertical-align: middle;\n",
       "    }\n",
       "\n",
       "    .dataframe tbody tr th {\n",
       "        vertical-align: top;\n",
       "    }\n",
       "\n",
       "    .dataframe thead th {\n",
       "        text-align: right;\n",
       "    }\n",
       "</style>\n",
       "<table border=\"1\" class=\"dataframe\">\n",
       "  <thead>\n",
       "    <tr style=\"text-align: right;\">\n",
       "      <th></th>\n",
       "      <th>sepal_length</th>\n",
       "      <th>sepal_width</th>\n",
       "      <th>petal_length</th>\n",
       "      <th>petal_width</th>\n",
       "    </tr>\n",
       "  </thead>\n",
       "  <tbody>\n",
       "    <tr>\n",
       "      <th>sepal_length</th>\n",
       "      <td>1.000000</td>\n",
       "      <td>0.109274</td>\n",
       "      <td>-0.652850</td>\n",
       "      <td>-0.626449</td>\n",
       "    </tr>\n",
       "    <tr>\n",
       "      <th>sepal_width</th>\n",
       "      <td>0.109274</td>\n",
       "      <td>1.000000</td>\n",
       "      <td>-0.424049</td>\n",
       "      <td>-0.360509</td>\n",
       "    </tr>\n",
       "    <tr>\n",
       "      <th>petal_length</th>\n",
       "      <td>-0.652850</td>\n",
       "      <td>-0.424049</td>\n",
       "      <td>1.000000</td>\n",
       "      <td>0.961975</td>\n",
       "    </tr>\n",
       "    <tr>\n",
       "      <th>petal_width</th>\n",
       "      <td>-0.626449</td>\n",
       "      <td>-0.360509</td>\n",
       "      <td>0.961975</td>\n",
       "      <td>1.000000</td>\n",
       "    </tr>\n",
       "  </tbody>\n",
       "</table>\n",
       "</div>"
      ],
      "text/plain": [
       "              sepal_length  sepal_width  petal_length  petal_width\n",
       "sepal_length      1.000000     0.109274     -0.652850    -0.626449\n",
       "sepal_width       0.109274     1.000000     -0.424049    -0.360509\n",
       "petal_length     -0.652850    -0.424049      1.000000     0.961975\n",
       "petal_width      -0.626449    -0.360509      0.961975     1.000000"
      ]
     },
     "execution_count": 26,
     "metadata": {},
     "output_type": "execute_result"
    }
   ],
   "source": [
    "numerical = data._get_numeric_data()\n",
    "\n",
    "corre_matrix = numerical.corr()\n",
    "corre_matrix"
   ]
  },
  {
   "cell_type": "code",
   "execution_count": 27,
   "id": "257c2776",
   "metadata": {
    "scrolled": false
   },
   "outputs": [
    {
     "data": {
      "image/png": "[encoded data removed]",
      "text/plain": [
       "<Figure size 720x576 with 2 Axes>"
      ]
     },
     "metadata": {
      "needs_background": "light"
     },
     "output_type": "display_data"
    }
   ],
   "source": [
    "mask = np.zeros_like(corre_matrix)\n",
    "mask[np.triu_indices_from(mask)] = True\n",
    "fig, ax = plt.subplots(figsize = (10, 8))\n",
    "ax = sns.heatmap(corre_matrix, mask = mask, annot = True, cmap = sns.diverging_palette(220, 20, as_cmap = True));"
   ]
  },
  {
   "cell_type": "code",
   "execution_count": 28,
   "id": "215d773d",
   "metadata": {},
   "outputs": [
    {
     "data": {
      "image/png": "[encoded data removed]",
      "text/plain": [
       "<Figure size 432x288 with 2 Axes>"
      ]
     },
     "metadata": {
      "needs_background": "light"
     },
     "output_type": "display_data"
    }
   ],
   "source": [
    "sns.heatmap(corre_matrix, annot = True);"
   ]
  },
  {
   "cell_type": "markdown",
   "id": "8ab1ea18",
   "metadata": {},
   "source": [
    "There is a very strong relation between columns **'petal_width'** and **'petal_length'**."
   ]
  },
  {
   "cell_type": "markdown",
   "id": "fec11d71",
   "metadata": {},
   "source": [
    "# Model the relationship between our features (the four numeric flower metrics) and the label (class) with Logistic Regression using LogisticRegression() from the sklearn.linear_model module. For the purpose of model validation, use the known train-test-split method with a size parameter of 0.3. Calculate the predicted labels, the accuracy score of y_test and y_predicted and plot a confusion matrix of the two."
   ]
  },
  {
   "cell_type": "code",
   "execution_count": 29,
   "id": "1217342c",
   "metadata": {},
   "outputs": [
    {
     "data": {
      "text/plain": [
       "array(['Iris-setosa', 'Iris-versicolor', 'Iris-virginica'], dtype=object)"
      ]
     },
     "execution_count": 29,
     "metadata": {},
     "output_type": "execute_result"
    }
   ],
   "source": [
    "data['class'].unique()"
   ]
  },
  {
   "cell_type": "code",
   "execution_count": 30,
   "id": "59be67a9",
   "metadata": {},
   "outputs": [],
   "source": [
    "# Before extracting the target variable, we'll convert the values \n",
    "# from the 'class' column to ternary:\n",
    "\n",
    "def ternary(x):\n",
    "    if x == 'Iris-setosa':\n",
    "        return 0\n",
    "    elif x == 'Iris-versicolor':\n",
    "        return 1\n",
    "    else:\n",
    "        return 2"
   ]
  },
  {
   "cell_type": "code",
   "execution_count": 31,
   "id": "6a17689e",
   "metadata": {},
   "outputs": [],
   "source": [
    "data['class'] = data['class'].apply(ternary)"
   ]
  },
  {
   "cell_type": "code",
   "execution_count": 32,
   "id": "618a0e60",
   "metadata": {
    "scrolled": true
   },
   "outputs": [
    {
     "data": {
      "text/plain": [
       "1    50\n",
       "2    50\n",
       "0    48\n",
       "Name: class, dtype: int64"
      ]
     },
     "execution_count": 32,
     "metadata": {},
     "output_type": "execute_result"
    }
   ],
   "source": [
    "data['class'].value_counts()"
   ]
  },
  {
   "cell_type": "code",
   "execution_count": 33,
   "id": "ef58ff57",
   "metadata": {},
   "outputs": [],
   "source": [
    "# Extracting the target variable:\n",
    "\n",
    "y = data['class']"
   ]
  },
  {
   "cell_type": "code",
   "execution_count": 34,
   "id": "5abd2649",
   "metadata": {},
   "outputs": [],
   "source": [
    "# Extracting the independent variables:\n",
    "\n",
    "X = data.drop(['class'], axis = 1)"
   ]
  },
  {
   "cell_type": "code",
   "execution_count": 35,
   "id": "eeba0bd9",
   "metadata": {
    "scrolled": true
   },
   "outputs": [
    {
     "data": {
      "text/html": [
       "<div>\n",
       "<style scoped>\n",
       "    .dataframe tbody tr th:only-of-type {\n",
       "        vertical-align: middle;\n",
       "    }\n",
       "\n",
       "    .dataframe tbody tr th {\n",
       "        vertical-align: top;\n",
       "    }\n",
       "\n",
       "    .dataframe thead th {\n",
       "        text-align: right;\n",
       "    }\n",
       "</style>\n",
       "<table border=\"1\" class=\"dataframe\">\n",
       "  <thead>\n",
       "    <tr style=\"text-align: right;\">\n",
       "      <th></th>\n",
       "      <th>sepal_length</th>\n",
       "      <th>sepal_width</th>\n",
       "      <th>petal_length</th>\n",
       "      <th>petal_width</th>\n",
       "    </tr>\n",
       "  </thead>\n",
       "  <tbody>\n",
       "    <tr>\n",
       "      <th>0</th>\n",
       "      <td>5.1</td>\n",
       "      <td>3.5</td>\n",
       "      <td>1.4</td>\n",
       "      <td>0.2</td>\n",
       "    </tr>\n",
       "  </tbody>\n",
       "</table>\n",
       "</div>"
      ],
      "text/plain": [
       "   sepal_length  sepal_width  petal_length  petal_width\n",
       "0           5.1          3.5           1.4          0.2"
      ]
     },
     "execution_count": 35,
     "metadata": {},
     "output_type": "execute_result"
    }
   ],
   "source": [
    "X.head(1)"
   ]
  },
  {
   "cell_type": "markdown",
   "id": "9594ab63",
   "metadata": {},
   "source": [
    "Looking at the numerical columns, I've decided **not to scale** them because the **dispersion** between values is **low**."
   ]
  },
  {
   "cell_type": "code",
   "execution_count": 36,
   "id": "2085b7af",
   "metadata": {
    "scrolled": true
   },
   "outputs": [],
   "source": [
    "# Train Test splitting:\n",
    "\n",
    "X_train, X_test, y_train, y_test = train_test_split(X, y, test_size = 0.3, random_state = 40)"
   ]
  },
  {
   "cell_type": "code",
   "execution_count": 37,
   "id": "ddd54803",
   "metadata": {
    "scrolled": true
   },
   "outputs": [
    {
     "data": {
      "text/plain": [
       "2    36\n",
       "0    34\n",
       "1    33\n",
       "Name: class, dtype: int64"
      ]
     },
     "execution_count": 37,
     "metadata": {},
     "output_type": "execute_result"
    }
   ],
   "source": [
    "y_train.value_counts()"
   ]
  },
  {
   "cell_type": "code",
   "execution_count": 38,
   "id": "861eb3d9",
   "metadata": {},
   "outputs": [
    {
     "data": {
      "text/plain": [
       "1    17\n",
       "0    14\n",
       "2    14\n",
       "Name: class, dtype: int64"
      ]
     },
     "execution_count": 38,
     "metadata": {},
     "output_type": "execute_result"
    }
   ],
   "source": [
    "y_test.value_counts()"
   ]
  },
  {
   "cell_type": "code",
   "execution_count": 39,
   "id": "b42d9bc2",
   "metadata": {},
   "outputs": [],
   "source": [
    "# Defining the Logistic Regression Model (classification):\n",
    "\n",
    "classification = LogisticRegression(max_iter = 500)"
   ]
  },
  {
   "cell_type": "code",
   "execution_count": 40,
   "id": "219e3f8f",
   "metadata": {},
   "outputs": [
    {
     "data": {
      "text/plain": [
       "LogisticRegression(max_iter=500)"
      ]
     },
     "execution_count": 40,
     "metadata": {},
     "output_type": "execute_result"
    }
   ],
   "source": [
    "classification.fit(X_train, y_train)"
   ]
  },
  {
   "cell_type": "code",
   "execution_count": 41,
   "id": "0ef3d110",
   "metadata": {},
   "outputs": [],
   "source": [
    "# Model evaluation:\n",
    "\n",
    "y_test_pred = classification.predict(X_test)"
   ]
  },
  {
   "cell_type": "code",
   "execution_count": 42,
   "id": "804436b9",
   "metadata": {},
   "outputs": [
    {
     "data": {
      "text/plain": [
       "0.91"
      ]
     },
     "execution_count": 42,
     "metadata": {},
     "output_type": "execute_result"
    }
   ],
   "source": [
    "round(accuracy_score(y_test, y_test_pred), 2)"
   ]
  },
  {
   "cell_type": "code",
   "execution_count": 43,
   "id": "518aca8c",
   "metadata": {},
   "outputs": [
    {
     "data": {
      "text/plain": [
       "array([[14,  0,  0],\n",
       "       [ 0, 15,  2],\n",
       "       [ 0,  2, 12]], dtype=int64)"
      ]
     },
     "execution_count": 43,
     "metadata": {},
     "output_type": "execute_result"
    }
   ],
   "source": [
    "confusion_matrix(y_test, y_test_pred)"
   ]
  },
  {
   "cell_type": "code",
   "execution_count": 44,
   "id": "5c481d0e",
   "metadata": {},
   "outputs": [
    {
     "data": {
      "image/png": "[encoded data removed]",
      "text/plain": [
       "<Figure size 432x288 with 2 Axes>"
      ]
     },
     "metadata": {
      "needs_background": "light"
     },
     "output_type": "display_data"
    }
   ],
   "source": [
    "cmx = confusion_matrix(y_test, y_test_pred)\n",
    "disp = ConfusionMatrixDisplay(confusion_matrix = cmx)\n",
    "disp.plot();"
   ]
  },
  {
   "cell_type": "code",
   "execution_count": 45,
   "id": "17811a10",
   "metadata": {},
   "outputs": [
    {
     "data": {
      "image/png": "[encoded data removed]",
      "text/plain": [
       "<Figure size 432x288 with 2 Axes>"
      ]
     },
     "metadata": {
      "needs_background": "light"
     },
     "output_type": "display_data"
    }
   ],
   "source": [
    "sns.heatmap(cmx / np.sum(cmx), annot = True, fmt = '.2%', cmap = 'Oranges');"
   ]
  },
  {
   "cell_type": "markdown",
   "id": "e4eb989c",
   "metadata": {},
   "source": [
    "# BONUS: Use all the rows of your data and your trained model to predict the flower classes. Then create pairwise scatterplots between all four features (6 in total) in which you color the dots depending which predicted flower class they belong to. Try to make out distinct clusters in those plots."
   ]
  },
  {
   "cell_type": "code",
   "execution_count": 46,
   "id": "bfa11b2d",
   "metadata": {},
   "outputs": [
    {
     "data": {
      "image/png": "[encoded data removed]",
      "text/plain": [
       "<Figure size 762.875x720 with 10 Axes>"
      ]
     },
     "metadata": {
      "needs_background": "light"
     },
     "output_type": "display_data"
    }
   ],
   "source": [
    "X['predict'] = classification.predict(X)\n",
    "sns.pairplot(X, hue = \"predict\", corner = True, diag_kind = 'None')\n",
    "plt.show()"
   ]
  }
 ],
 "metadata": {
  "kernelspec": {
   "display_name": "Python 3 (ipykernel)",
   "language": "python",
   "name": "python3"
  },
  "language_info": {
   "codemirror_mode": {
    "name": "ipython",
    "version": 3
   },
   "file_extension": ".py",
   "mimetype": "text/x-python",
   "name": "python",
   "nbconvert_exporter": "python",
   "pygments_lexer": "ipython3",
   "version": "3.9.7"
  },
  "toc": {
   "base_numbering": 1,
   "nav_menu": {},
   "number_sections": true,
   "sideBar": true,
   "skip_h1_title": false,
   "title_cell": "Table of Contents",
   "title_sidebar": "Contents",
   "toc_cell": false,
   "toc_position": {},
   "toc_section_display": true,
   "toc_window_display": false
  },
  "varInspector": {
   "cols": {
    "lenName": 16,
    "lenType": 16,
    "lenVar": 40
   },
   "kernels_config": {
    "python": {
     "delete_cmd_postfix": "",
     "delete_cmd_prefix": "del ",
     "library": "var_list.py",
     "varRefreshCmd": "print(var_dic_list())"
    },
    "r": {
     "delete_cmd_postfix": ") ",
     "delete_cmd_prefix": "rm(",
     "library": "var_list.r",
     "varRefreshCmd": "cat(var_dic_list()) "
    }
   },
   "types_to_exclude": [
    "module",
    "function",
    "builtin_function_or_method",
    "instance",
    "_Feature"
   ],
   "window_display": false
  }
 },
 "nbformat": 4,
 "nbformat_minor": 5
}
